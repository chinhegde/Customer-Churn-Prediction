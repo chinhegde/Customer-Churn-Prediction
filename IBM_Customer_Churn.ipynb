{
  "nbformat": 4,
  "nbformat_minor": 0,
  "metadata": {
    "colab": {
      "provenance": []
    },
    "kernelspec": {
      "name": "python3",
      "display_name": "Python 3"
    },
    "language_info": {
      "name": "python"
    }
  },
  "cells": [
    {
      "cell_type": "markdown",
      "source": [
        "# Customer Churn Prediction with various Machine Learning Algorithms\n",
        "# (IBM Telco Dataset)"
      ],
      "metadata": {
        "id": "bAcKblfdWSh2"
      }
    },
    {
      "cell_type": "markdown",
      "source": [
        "## Import packages, defining functions & configurations"
      ],
      "metadata": {
        "id": "52nmxEWwWZKP"
      }
    },
    {
      "cell_type": "code",
      "source": [
        "import warnings\n",
        "warnings.filterwarnings(\"ignore\")\n",
        "\n",
        "import numpy as np\n",
        "import pandas as pd\n",
        "\n",
        "import matplotlib.pyplot as plt\n",
        "import math\n",
        "import imblearn\n",
        "from sklearn.datasets import make_classification\n",
        "from sklearn.feature_selection import SelectKBest, chi2, f_regression, f_classif, SelectFpr\n",
        "\n",
        "from imblearn.over_sampling import SMOTE\n",
        "from sklearn.model_selection import train_test_split\n",
        "from imblearn.under_sampling import RandomUnderSampler\n",
        "from sklearn.neighbors import KNeighborsClassifier\n",
        "from sklearn.metrics import confusion_matrix,classification_report,accuracy_score,precision_score,recall_score\n",
        "from sklearn import tree"
      ],
      "metadata": {
        "id": "nArUiQ5bimpC"
      },
      "execution_count": null,
      "outputs": []
    },
    {
      "cell_type": "code",
      "source": [
        "%matplotlib inline\n",
        "plt.rcParams['figure.figsize'] = [10,16]\n",
        "plt.rcParams['font.size'] =12"
      ],
      "metadata": {
        "id": "9jKanmfkpiVv"
      },
      "execution_count": null,
      "outputs": []
    },
    {
      "cell_type": "code",
      "source": [
        "# Print stacked plot\n",
        "\n",
        "def stacked_bar(cols, super_title):\n",
        "\n",
        "    rows = math.ceil(len(cols)/2)\n",
        "\n",
        "    fig = plt.figure(figsize=(35, 6 * rows))\n",
        "    fig.suptitle(super_title, fontsize=14,  y=.95)\n",
        "\n",
        "    for index, column in enumerate(cols, 1):\n",
        "\n",
        "        ax = fig.add_subplot(rows, 4, index)\n",
        "\n",
        "        # % churn & non-churn\n",
        "        i = pd.crosstab(df[column], df['Churn Label']).apply(lambda x: x/x.sum()*100, axis=1)\n",
        "\n",
        "        i.plot(kind='bar', ax=ax, stacked=True, rot=0, color=['#FFF0CA','#C9E45F'])\n",
        "\n",
        "        ax.legend(loc=\"upper right\", bbox_to_anchor=(0.62, 0.5, 0.5, 0.5), title='Churn')\n",
        "        ax.set_title('Proportion of observations by ' + column, fontsize=14, loc='left')\n",
        "        ax.tick_params(rotation='auto')\n",
        "\n",
        "        sname = ('top', 'right', 'bottom', 'left')\n",
        "        for spine_name in sname:\n",
        "            ax.spines[spine_name].set_visible(False)"
      ],
      "metadata": {
        "id": "Tk7kp1gqxB9Z"
      },
      "execution_count": null,
      "outputs": []
    },
    {
      "cell_type": "code",
      "source": [
        "# Print histogram\n",
        "\n",
        "def plot_histogram(cols, super_title):\n",
        "\n",
        "  rows = math.ceil(len(cols)/2)\n",
        "\n",
        "  fig = plt.figure(figsize=(30, 6 * rows))\n",
        "  fig.suptitle(super_title, fontsize=22,  y=.95)\n",
        "\n",
        "  for ind, column in enumerate(cols, 1):\n",
        "\n",
        "    ax = fig.add_subplot(rows, 4, ind)\n",
        "\n",
        "    # histogram for each class\n",
        "    df[df['Churn Label']=='No'][column].plot(kind='hist', ax=ax, density=True, alpha=0.5, color='#F8CEE4', label='No')\n",
        "    df[df['Churn Label']=='Yes'][column].plot(kind='hist', ax=ax, density=True, alpha=0.5, color='#C9E45F', label='Yes')\n",
        "\n",
        "    ax.legend(loc=\"upper right\", bbox_to_anchor=(0.5, 0.5, 0.5, 0.5), title='Churn')\n",
        "\n",
        "    ax.set_title('Distribution of ' + column + ' by churn', fontsize=16, loc='left')\n",
        "    ax.tick_params(rotation='auto')\n",
        "\n",
        "    snames = ('top', 'right', 'bottom', 'left')\n",
        "    for sname in snames:\n",
        "      ax.spines[sname].set_visible(False)"
      ],
      "metadata": {
        "id": "ayQfR2f9EtA6"
      },
      "execution_count": null,
      "outputs": []
    },
    {
      "cell_type": "markdown",
      "source": [
        "## Reading the dataset & data cleaning\n",
        "* Remove empty values (11 rows)\n",
        "* Removing insignificant columns"
      ],
      "metadata": {
        "id": "hckxYgtfWh15"
      }
    },
    {
      "cell_type": "code",
      "source": [
        "df = pd.read_excel(\"/input/Telco_customer_churn.xlsx\")"
      ],
      "metadata": {
        "id": "JQWZobWMkV34"
      },
      "execution_count": null,
      "outputs": []
    },
    {
      "cell_type": "code",
      "source": [
        "# df.columns\n",
        "df.head()"
      ],
      "metadata": {
        "colab": {
          "base_uri": "https://localhost:8080/"
        },
        "id": "rrjZDC8Cn7mX",
        "outputId": "7021f1c7-ee24-4fe6-d812-ba89e693c2f5"
      },
      "execution_count": null,
      "outputs": [
        {
          "output_type": "execute_result",
          "data": {
            "text/plain": [
              "   CustomerID  Count        Country       State         City  Zip Code  \\\n",
              "0  3668-QPYBK      1  United States  California  Los Angeles     90003   \n",
              "1  9237-HQITU      1  United States  California  Los Angeles     90005   \n",
              "2  9305-CDSKC      1  United States  California  Los Angeles     90006   \n",
              "3  7892-POOKP      1  United States  California  Los Angeles     90010   \n",
              "4  0280-XJGEX      1  United States  California  Los Angeles     90015   \n",
              "\n",
              "                 Lat Long   Latitude   Longitude  Gender  ...        Contract  \\\n",
              "0  33.964131, -118.272783  33.964131 -118.272783    Male  ...  Month-to-month   \n",
              "1   34.059281, -118.30742  34.059281 -118.307420  Female  ...  Month-to-month   \n",
              "2  34.048013, -118.293953  34.048013 -118.293953  Female  ...  Month-to-month   \n",
              "3  34.062125, -118.315709  34.062125 -118.315709  Female  ...  Month-to-month   \n",
              "4  34.039224, -118.266293  34.039224 -118.266293    Male  ...  Month-to-month   \n",
              "\n",
              "  Paperless Billing             Payment Method  Monthly Charges Total Charges  \\\n",
              "0               Yes               Mailed check            53.85        108.15   \n",
              "1               Yes           Electronic check            70.70        151.65   \n",
              "2               Yes           Electronic check            99.65         820.5   \n",
              "3               Yes           Electronic check           104.80       3046.05   \n",
              "4               Yes  Bank transfer (automatic)           103.70        5036.3   \n",
              "\n",
              "  Churn Label Churn Value Churn Score  CLTV                   Churn Reason  \n",
              "0         Yes           1          86  3239   Competitor made better offer  \n",
              "1         Yes           1          67  2701                          Moved  \n",
              "2         Yes           1          86  5372                          Moved  \n",
              "3         Yes           1          84  5003                          Moved  \n",
              "4         Yes           1          89  5340  Competitor had better devices  \n",
              "\n",
              "[5 rows x 33 columns]"
            ],
            "text/html": [
              "\n",
              "  <div id=\"df-71cc2345-78b5-4a3f-b746-9d26ab7c920a\">\n",
              "    <div class=\"colab-df-container\">\n",
              "      <div>\n",
              "<style scoped>\n",
              "    .dataframe tbody tr th:only-of-type {\n",
              "        vertical-align: middle;\n",
              "    }\n",
              "\n",
              "    .dataframe tbody tr th {\n",
              "        vertical-align: top;\n",
              "    }\n",
              "\n",
              "    .dataframe thead th {\n",
              "        text-align: right;\n",
              "    }\n",
              "</style>\n",
              "<table border=\"1\" class=\"dataframe\">\n",
              "  <thead>\n",
              "    <tr style=\"text-align: right;\">\n",
              "      <th></th>\n",
              "      <th>CustomerID</th>\n",
              "      <th>Count</th>\n",
              "      <th>Country</th>\n",
              "      <th>State</th>\n",
              "      <th>City</th>\n",
              "      <th>Zip Code</th>\n",
              "      <th>Lat Long</th>\n",
              "      <th>Latitude</th>\n",
              "      <th>Longitude</th>\n",
              "      <th>Gender</th>\n",
              "      <th>...</th>\n",
              "      <th>Contract</th>\n",
              "      <th>Paperless Billing</th>\n",
              "      <th>Payment Method</th>\n",
              "      <th>Monthly Charges</th>\n",
              "      <th>Total Charges</th>\n",
              "      <th>Churn Label</th>\n",
              "      <th>Churn Value</th>\n",
              "      <th>Churn Score</th>\n",
              "      <th>CLTV</th>\n",
              "      <th>Churn Reason</th>\n",
              "    </tr>\n",
              "  </thead>\n",
              "  <tbody>\n",
              "    <tr>\n",
              "      <th>0</th>\n",
              "      <td>3668-QPYBK</td>\n",
              "      <td>1</td>\n",
              "      <td>United States</td>\n",
              "      <td>California</td>\n",
              "      <td>Los Angeles</td>\n",
              "      <td>90003</td>\n",
              "      <td>33.964131, -118.272783</td>\n",
              "      <td>33.964131</td>\n",
              "      <td>-118.272783</td>\n",
              "      <td>Male</td>\n",
              "      <td>...</td>\n",
              "      <td>Month-to-month</td>\n",
              "      <td>Yes</td>\n",
              "      <td>Mailed check</td>\n",
              "      <td>53.85</td>\n",
              "      <td>108.15</td>\n",
              "      <td>Yes</td>\n",
              "      <td>1</td>\n",
              "      <td>86</td>\n",
              "      <td>3239</td>\n",
              "      <td>Competitor made better offer</td>\n",
              "    </tr>\n",
              "    <tr>\n",
              "      <th>1</th>\n",
              "      <td>9237-HQITU</td>\n",
              "      <td>1</td>\n",
              "      <td>United States</td>\n",
              "      <td>California</td>\n",
              "      <td>Los Angeles</td>\n",
              "      <td>90005</td>\n",
              "      <td>34.059281, -118.30742</td>\n",
              "      <td>34.059281</td>\n",
              "      <td>-118.307420</td>\n",
              "      <td>Female</td>\n",
              "      <td>...</td>\n",
              "      <td>Month-to-month</td>\n",
              "      <td>Yes</td>\n",
              "      <td>Electronic check</td>\n",
              "      <td>70.70</td>\n",
              "      <td>151.65</td>\n",
              "      <td>Yes</td>\n",
              "      <td>1</td>\n",
              "      <td>67</td>\n",
              "      <td>2701</td>\n",
              "      <td>Moved</td>\n",
              "    </tr>\n",
              "    <tr>\n",
              "      <th>2</th>\n",
              "      <td>9305-CDSKC</td>\n",
              "      <td>1</td>\n",
              "      <td>United States</td>\n",
              "      <td>California</td>\n",
              "      <td>Los Angeles</td>\n",
              "      <td>90006</td>\n",
              "      <td>34.048013, -118.293953</td>\n",
              "      <td>34.048013</td>\n",
              "      <td>-118.293953</td>\n",
              "      <td>Female</td>\n",
              "      <td>...</td>\n",
              "      <td>Month-to-month</td>\n",
              "      <td>Yes</td>\n",
              "      <td>Electronic check</td>\n",
              "      <td>99.65</td>\n",
              "      <td>820.5</td>\n",
              "      <td>Yes</td>\n",
              "      <td>1</td>\n",
              "      <td>86</td>\n",
              "      <td>5372</td>\n",
              "      <td>Moved</td>\n",
              "    </tr>\n",
              "    <tr>\n",
              "      <th>3</th>\n",
              "      <td>7892-POOKP</td>\n",
              "      <td>1</td>\n",
              "      <td>United States</td>\n",
              "      <td>California</td>\n",
              "      <td>Los Angeles</td>\n",
              "      <td>90010</td>\n",
              "      <td>34.062125, -118.315709</td>\n",
              "      <td>34.062125</td>\n",
              "      <td>-118.315709</td>\n",
              "      <td>Female</td>\n",
              "      <td>...</td>\n",
              "      <td>Month-to-month</td>\n",
              "      <td>Yes</td>\n",
              "      <td>Electronic check</td>\n",
              "      <td>104.80</td>\n",
              "      <td>3046.05</td>\n",
              "      <td>Yes</td>\n",
              "      <td>1</td>\n",
              "      <td>84</td>\n",
              "      <td>5003</td>\n",
              "      <td>Moved</td>\n",
              "    </tr>\n",
              "    <tr>\n",
              "      <th>4</th>\n",
              "      <td>0280-XJGEX</td>\n",
              "      <td>1</td>\n",
              "      <td>United States</td>\n",
              "      <td>California</td>\n",
              "      <td>Los Angeles</td>\n",
              "      <td>90015</td>\n",
              "      <td>34.039224, -118.266293</td>\n",
              "      <td>34.039224</td>\n",
              "      <td>-118.266293</td>\n",
              "      <td>Male</td>\n",
              "      <td>...</td>\n",
              "      <td>Month-to-month</td>\n",
              "      <td>Yes</td>\n",
              "      <td>Bank transfer (automatic)</td>\n",
              "      <td>103.70</td>\n",
              "      <td>5036.3</td>\n",
              "      <td>Yes</td>\n",
              "      <td>1</td>\n",
              "      <td>89</td>\n",
              "      <td>5340</td>\n",
              "      <td>Competitor had better devices</td>\n",
              "    </tr>\n",
              "  </tbody>\n",
              "</table>\n",
              "<p>5 rows × 33 columns</p>\n",
              "</div>\n",
              "      <button class=\"colab-df-convert\" onclick=\"convertToInteractive('df-71cc2345-78b5-4a3f-b746-9d26ab7c920a')\"\n",
              "              title=\"Convert this dataframe to an interactive table.\"\n",
              "              style=\"display:none;\">\n",
              "        \n",
              "  <svg xmlns=\"http://www.w3.org/2000/svg\" height=\"24px\"viewBox=\"0 0 24 24\"\n",
              "       width=\"24px\">\n",
              "    <path d=\"M0 0h24v24H0V0z\" fill=\"none\"/>\n",
              "    <path d=\"M18.56 5.44l.94 2.06.94-2.06 2.06-.94-2.06-.94-.94-2.06-.94 2.06-2.06.94zm-11 1L8.5 8.5l.94-2.06 2.06-.94-2.06-.94L8.5 2.5l-.94 2.06-2.06.94zm10 10l.94 2.06.94-2.06 2.06-.94-2.06-.94-.94-2.06-.94 2.06-2.06.94z\"/><path d=\"M17.41 7.96l-1.37-1.37c-.4-.4-.92-.59-1.43-.59-.52 0-1.04.2-1.43.59L10.3 9.45l-7.72 7.72c-.78.78-.78 2.05 0 2.83L4 21.41c.39.39.9.59 1.41.59.51 0 1.02-.2 1.41-.59l7.78-7.78 2.81-2.81c.8-.78.8-2.07 0-2.86zM5.41 20L4 18.59l7.72-7.72 1.47 1.35L5.41 20z\"/>\n",
              "  </svg>\n",
              "      </button>\n",
              "      \n",
              "  <style>\n",
              "    .colab-df-container {\n",
              "      display:flex;\n",
              "      flex-wrap:wrap;\n",
              "      gap: 12px;\n",
              "    }\n",
              "\n",
              "    .colab-df-convert {\n",
              "      background-color: #E8F0FE;\n",
              "      border: none;\n",
              "      border-radius: 50%;\n",
              "      cursor: pointer;\n",
              "      display: none;\n",
              "      fill: #1967D2;\n",
              "      height: 32px;\n",
              "      padding: 0 0 0 0;\n",
              "      width: 32px;\n",
              "    }\n",
              "\n",
              "    .colab-df-convert:hover {\n",
              "      background-color: #E2EBFA;\n",
              "      box-shadow: 0px 1px 2px rgba(60, 64, 67, 0.3), 0px 1px 3px 1px rgba(60, 64, 67, 0.15);\n",
              "      fill: #174EA6;\n",
              "    }\n",
              "\n",
              "    [theme=dark] .colab-df-convert {\n",
              "      background-color: #3B4455;\n",
              "      fill: #D2E3FC;\n",
              "    }\n",
              "\n",
              "    [theme=dark] .colab-df-convert:hover {\n",
              "      background-color: #434B5C;\n",
              "      box-shadow: 0px 1px 3px 1px rgba(0, 0, 0, 0.15);\n",
              "      filter: drop-shadow(0px 1px 2px rgba(0, 0, 0, 0.3));\n",
              "      fill: #FFFFFF;\n",
              "    }\n",
              "  </style>\n",
              "\n",
              "      <script>\n",
              "        const buttonEl =\n",
              "          document.querySelector('#df-71cc2345-78b5-4a3f-b746-9d26ab7c920a button.colab-df-convert');\n",
              "        buttonEl.style.display =\n",
              "          google.colab.kernel.accessAllowed ? 'block' : 'none';\n",
              "\n",
              "        async function convertToInteractive(key) {\n",
              "          const element = document.querySelector('#df-71cc2345-78b5-4a3f-b746-9d26ab7c920a');\n",
              "          const dataTable =\n",
              "            await google.colab.kernel.invokeFunction('convertToInteractive',\n",
              "                                                     [key], {});\n",
              "          if (!dataTable) return;\n",
              "\n",
              "          const docLinkHtml = 'Like what you see? Visit the ' +\n",
              "            '<a target=\"_blank\" href=https://colab.research.google.com/notebooks/data_table.ipynb>data table notebook</a>'\n",
              "            + ' to learn more about interactive tables.';\n",
              "          element.innerHTML = '';\n",
              "          dataTable['output_type'] = 'display_data';\n",
              "          await google.colab.output.renderOutput(dataTable, element);\n",
              "          const docLink = document.createElement('div');\n",
              "          docLink.innerHTML = docLinkHtml;\n",
              "          element.appendChild(docLink);\n",
              "        }\n",
              "      </script>\n",
              "    </div>\n",
              "  </div>\n",
              "  "
            ]
          },
          "metadata": {},
          "execution_count": 16
        }
      ]
    },
    {
      "cell_type": "code",
      "source": [
        "df = df.drop_duplicates()"
      ],
      "metadata": {
        "id": "zXlMKV35sLCI"
      },
      "execution_count": null,
      "outputs": []
    },
    {
      "cell_type": "code",
      "source": [
        "df = df.drop(['Country','State','Count'], axis = 1)"
      ],
      "metadata": {
        "id": "dBW4AHPaq87t"
      },
      "execution_count": null,
      "outputs": []
    },
    {
      "cell_type": "code",
      "source": [
        "df = df.drop(['Churn Reason'], axis = 1)\n",
        "df.drop(columns='CustomerID', inplace=True)"
      ],
      "metadata": {
        "id": "K69PIQdx0nbL"
      },
      "execution_count": null,
      "outputs": []
    },
    {
      "cell_type": "code",
      "source": [
        "df.info()"
      ],
      "metadata": {
        "colab": {
          "base_uri": "https://localhost:8080/"
        },
        "id": "Ghdbyb-Uyrs2",
        "outputId": "ecd72ee7-3546-448b-90da-e631f7929c65"
      },
      "execution_count": null,
      "outputs": [
        {
          "output_type": "stream",
          "name": "stdout",
          "text": [
            "<class 'pandas.core.frame.DataFrame'>\n",
            "Int64Index: 7043 entries, 0 to 7042\n",
            "Data columns (total 28 columns):\n",
            " #   Column             Non-Null Count  Dtype  \n",
            "---  ------             --------------  -----  \n",
            " 0   City               7043 non-null   object \n",
            " 1   Zip Code           7043 non-null   int64  \n",
            " 2   Lat Long           7043 non-null   object \n",
            " 3   Latitude           7043 non-null   float64\n",
            " 4   Longitude          7043 non-null   float64\n",
            " 5   Gender             7043 non-null   object \n",
            " 6   Senior Citizen     7043 non-null   object \n",
            " 7   Partner            7043 non-null   object \n",
            " 8   Dependents         7043 non-null   object \n",
            " 9   Tenure Months      7043 non-null   int64  \n",
            " 10  Phone Service      7043 non-null   object \n",
            " 11  Multiple Lines     7043 non-null   object \n",
            " 12  Internet Service   7043 non-null   object \n",
            " 13  Online Security    7043 non-null   object \n",
            " 14  Online Backup      7043 non-null   object \n",
            " 15  Device Protection  7043 non-null   object \n",
            " 16  Tech Support       7043 non-null   object \n",
            " 17  Streaming TV       7043 non-null   object \n",
            " 18  Streaming Movies   7043 non-null   object \n",
            " 19  Contract           7043 non-null   object \n",
            " 20  Paperless Billing  7043 non-null   object \n",
            " 21  Payment Method     7043 non-null   object \n",
            " 22  Monthly Charges    7043 non-null   float64\n",
            " 23  Total Charges      7043 non-null   object \n",
            " 24  Churn Label        7043 non-null   object \n",
            " 25  Churn Value        7043 non-null   int64  \n",
            " 26  Churn Score        7043 non-null   int64  \n",
            " 27  CLTV               7043 non-null   int64  \n",
            "dtypes: float64(3), int64(5), object(20)\n",
            "memory usage: 1.6+ MB\n"
          ]
        }
      ]
    },
    {
      "cell_type": "code",
      "source": [
        "df['Total Charges'] = pd.to_numeric(df['Total Charges'], errors='coerce')\n",
        "df.isna().sum()"
      ],
      "metadata": {
        "id": "pdXSGOXuFyp_",
        "colab": {
          "base_uri": "https://localhost:8080/"
        },
        "outputId": "94f6e56e-2d98-47b0-c7ea-5d44614358fb"
      },
      "execution_count": null,
      "outputs": [
        {
          "output_type": "execute_result",
          "data": {
            "text/plain": [
              "City                  0\n",
              "Zip Code              0\n",
              "Lat Long              0\n",
              "Latitude              0\n",
              "Longitude             0\n",
              "Gender                0\n",
              "Senior Citizen        0\n",
              "Partner               0\n",
              "Dependents            0\n",
              "Tenure Months         0\n",
              "Phone Service         0\n",
              "Multiple Lines        0\n",
              "Internet Service      0\n",
              "Online Security       0\n",
              "Online Backup         0\n",
              "Device Protection     0\n",
              "Tech Support          0\n",
              "Streaming TV          0\n",
              "Streaming Movies      0\n",
              "Contract              0\n",
              "Paperless Billing     0\n",
              "Payment Method        0\n",
              "Monthly Charges       0\n",
              "Total Charges        11\n",
              "Churn Label           0\n",
              "Churn Value           0\n",
              "Churn Score           0\n",
              "CLTV                  0\n",
              "dtype: int64"
            ]
          },
          "metadata": {},
          "execution_count": 21
        }
      ]
    },
    {
      "cell_type": "code",
      "source": [
        "df[df['Total Charges'].isnull()]\n",
        "df.dropna(inplace=True)"
      ],
      "metadata": {
        "id": "ycMyIA_EG9d1"
      },
      "execution_count": null,
      "outputs": []
    },
    {
      "cell_type": "code",
      "source": [
        "df['Payment Method'] = df['Payment Method'].str.replace(' (automatic)', '', regex=False)\n",
        "df[\"Payment Method\"].unique()"
      ],
      "metadata": {
        "colab": {
          "base_uri": "https://localhost:8080/"
        },
        "id": "kGQazs61GmOR",
        "outputId": "c1d7239e-47c4-483a-d70b-0bd8d434b365"
      },
      "execution_count": null,
      "outputs": [
        {
          "output_type": "execute_result",
          "data": {
            "text/plain": [
              "array(['Mailed check', 'Electronic check', 'Bank transfer', 'Credit card'],\n",
              "      dtype=object)"
            ]
          },
          "metadata": {},
          "execution_count": 23
        }
      ]
    },
    {
      "cell_type": "markdown",
      "source": [
        "## Data Visualization"
      ],
      "metadata": {
        "id": "VMyw66ugX8hv"
      }
    },
    {
      "cell_type": "markdown",
      "source": [
        "### Customer distribution"
      ],
      "metadata": {
        "id": "cisi7CuvZyjy"
      }
    },
    {
      "cell_type": "code",
      "source": [
        "fig = plt.figure(figsize=(20, 4))\n",
        "ax = fig.add_subplot(111)\n",
        "\n",
        "r = df['City'].value_counts().sort_values(ascending = False)[:20]\n",
        "\n",
        "r.plot(kind = 'bar', ax = ax, width = 0.8, color = '#7B7AAF')\n",
        "\n",
        "ax.set_title('Distribution is Top 20 cities', fontsize = 20)\n",
        "ax.set_xlabel('City', fontsize = 14)\n",
        "ax.set_ylabel('Number of customers', fontsize = 14)\n",
        "ax.tick_params(rotation=90)"
      ],
      "metadata": {
        "colab": {
          "base_uri": "https://localhost:8080/",
          "height": 387
        },
        "id": "E7idOFtgI0C6",
        "outputId": "25593956-3a61-4f68-c230-caf9536399e0"
      },
      "execution_count": null,
      "outputs": [
        {
          "output_type": "display_data",
          "data": {
            "text/plain": [
              "<Figure size 1440x288 with 1 Axes>"
            ],
            "image/png": "[encoded data removed]"
          },
          "metadata": {
            "needs_background": "light"
          }
        }
      ]
    },
    {
      "cell_type": "code",
      "source": [
        "from numpy.core.fromnumeric import shape\n",
        "fig = plt.figure(figsize=(8,8))\n",
        "plt.scatter(df[\"Latitude\"],df[\"Longitude\"], s=3, color = ['#7B7AAF'])\n",
        "plt.xlabel(\"X\")\n",
        "plt.ylabel(\"Y\")\n",
        "plt.show()"
      ],
      "metadata": {
        "colab": {
          "base_uri": "https://localhost:8080/",
          "height": 503
        },
        "id": "90dNzB_wMCPG",
        "outputId": "7cf765d7-fd1a-4ac2-b5d2-3d4aabf871e7"
      },
      "execution_count": null,
      "outputs": [
        {
          "output_type": "display_data",
          "data": {
            "text/plain": [
              "<Figure size 576x576 with 1 Axes>"
            ],
            "image/png": "[encoded data removed]"
          },
          "metadata": {
            "needs_background": "light"
          }
        }
      ]
    },
    {
      "cell_type": "code",
      "source": [
        "fig = plt.figure(figsize=(5,3))\n",
        "ax = fig.add_subplot(111)\n",
        "\n",
        "r = df['Gender'].value_counts()\n",
        "\n",
        "r.plot(kind = 'bar', ax = ax, color=['#7B7AAF','#C9E45F'])\n",
        "\n",
        "# set title and labels\n",
        "ax.set_title('Proportion of observations of the response variable')\n",
        "ax.set_xlabel('Churn Label')\n",
        "ax.set_ylabel('Number of customers')\n",
        "ax.tick_params(rotation='auto')\n"
      ],
      "metadata": {
        "colab": {
          "base_uri": "https://localhost:8080/",
          "height": 248
        },
        "id": "0O2-vLAGLec9",
        "outputId": "b07ec3b6-b053-441a-db01-8a4002b563fb"
      },
      "execution_count": null,
      "outputs": [
        {
          "output_type": "display_data",
          "data": {
            "text/plain": [
              "<Figure size 360x216 with 1 Axes>"
            ],
            "image/png": "[encoded data removed]"
          },
          "metadata": {
            "needs_background": "light"
          }
        }
      ]
    },
    {
      "cell_type": "markdown",
      "source": [
        "### Demographic Information"
      ],
      "metadata": {
        "id": "z0rkfE5QcDx9"
      }
    },
    {
      "cell_type": "code",
      "source": [
        "# demographic column names\n",
        "demographic_columns = ['Gender', 'Senior Citizen', 'Partner', 'Dependents']\n",
        "\n",
        "# stacked plot of demographic columns\n",
        "stacked_bar(demographic_columns, 'Demographic Information')"
      ],
      "metadata": {
        "colab": {
          "base_uri": "https://localhost:8080/",
          "height": 320
        },
        "id": "LjUza8FVJzLe",
        "outputId": "fbf8eafc-8b2d-4dd3-b236-6f93fb2e3994"
      },
      "execution_count": null,
      "outputs": [
        {
          "output_type": "display_data",
          "data": {
            "text/plain": [
              "<Figure size 2520x864 with 4 Axes>"
            ],
            "image/png": "[encoded data removed]"
          },
          "metadata": {
            "needs_background": "light"
          }
        }
      ]
    },
    {
      "cell_type": "markdown",
      "source": [
        "### Customer Account Information"
      ],
      "metadata": {
        "id": "2sbyyUgscIdO"
      }
    },
    {
      "cell_type": "code",
      "source": [
        "acc_cols = ['Contract', 'Paperless Billing', 'Payment Method']\n",
        "\n",
        "stacked_bar(acc_cols, 'Customer Account Information')"
      ],
      "metadata": {
        "colab": {
          "base_uri": "https://localhost:8080/",
          "height": 421
        },
        "id": "Pd8_qt0YzuXv",
        "outputId": "ae5347fc-294d-415f-a6db-7197b350c3c9"
      },
      "execution_count": null,
      "outputs": [
        {
          "output_type": "display_data",
          "data": {
            "text/plain": [
              "<Figure size 2520x864 with 3 Axes>"
            ],
            "image/png": "[encoded data removed]"
          },
          "metadata": {
            "needs_background": "light"
          }
        }
      ]
    },
    {
      "cell_type": "code",
      "source": [
        "acc_cols_numeric = ['Tenure Months', 'Monthly Charges', 'Total Charges']\n",
        "plot_histogram(acc_cols_numeric, 'Customer Account Information')"
      ],
      "metadata": {
        "colab": {
          "base_uri": "https://localhost:8080/",
          "height": 408
        },
        "id": "ZjJ_yo90cQco",
        "outputId": "86b1c571-623e-465e-a9dd-b865955ea8c3"
      },
      "execution_count": null,
      "outputs": [
        {
          "output_type": "display_data",
          "data": {
            "text/plain": [
              "<Figure size 2160x864 with 3 Axes>"
            ],
            "image/png": "[encoded data removed]"
          },
          "metadata": {
            "needs_background": "light"
          }
        }
      ]
    },
    {
      "cell_type": "markdown",
      "source": [
        "### Services Information"
      ],
      "metadata": {
        "id": "map39bg1c3px"
      }
    },
    {
      "cell_type": "code",
      "source": [
        "services_columns = ['Phone Service', 'Multiple Lines', 'Internet Service', 'Online Security', 'Online Backup', 'Device Protection', 'Tech Support', 'Streaming TV', 'Streaming Movies']\n",
        "stacked_bar(services_columns, 'Services Information')"
      ],
      "metadata": {
        "colab": {
          "base_uri": "https://localhost:8080/",
          "height": 878
        },
        "id": "1HA14iJgE4sa",
        "outputId": "87cbb92f-b0e8-473c-afcd-4b794660f96a"
      },
      "execution_count": null,
      "outputs": [
        {
          "output_type": "display_data",
          "data": {
            "text/plain": [
              "<Figure size 2520x2160 with 9 Axes>"
            ],
            "image/png": "[encoded data removed]"
          },
          "metadata": {
            "needs_background": "light"
          }
        }
      ]
    },
    {
      "cell_type": "markdown",
      "source": [
        "## Data Transformation & Feature Selection"
      ],
      "metadata": {
        "id": "0CrYR25Xc922"
      }
    },
    {
      "cell_type": "markdown",
      "source": [
        "* Assigning numerical values to categorical variables.\n",
        "* One-hot encoding\n",
        "* Normalization"
      ],
      "metadata": {
        "id": "qkEvm--tohPf"
      }
    },
    {
      "cell_type": "markdown",
      "source": [
        "Label encoding"
      ],
      "metadata": {
        "id": "Kup9scI_GvSS"
      }
    },
    {
      "cell_type": "code",
      "source": [
        "df_trans = df.copy()\n",
        "\n",
        "label_encoding_columns = ['Senior Citizen', 'Partner', 'Dependents', 'Paperless Billing', 'Phone Service', 'Churn Label']\n",
        "\n",
        "for column in label_encoding_columns:\n",
        "    if column == 'Gender':\n",
        "        df_trans[column] = df_trans[column].map({'Female': 1, 'Male': 0})\n",
        "    else:\n",
        "        df_trans[column] = df_trans[column].map({'Yes': 1, 'No': 0})"
      ],
      "metadata": {
        "id": "WCTtqkK2OnOL"
      },
      "execution_count": null,
      "outputs": []
    },
    {
      "cell_type": "code",
      "source": [
        "df_trans = df_trans.drop(['Lat Long','City', 'Gender', 'Multiple Lines', 'Phone Service', 'Latitude', 'Longitude','Phone Service', 'Churn Value', 'Churn Score', 'CLTV'], axis = 1)"
      ],
      "metadata": {
        "id": "4znzh1Z7HH9y"
      },
      "execution_count": null,
      "outputs": []
    },
    {
      "cell_type": "code",
      "source": [
        "df_trans.head()"
      ],
      "metadata": {
        "colab": {
          "base_uri": "https://localhost:8080/",
          "height": 354
        },
        "id": "dslf3KVeO8ve",
        "outputId": "a7a516c8-9eff-4210-e885-38fec15d6df7"
      },
      "execution_count": null,
      "outputs": [
        {
          "output_type": "execute_result",
          "data": {
            "text/plain": [
              "   Zip Code  Senior Citizen  Partner  Dependents  Tenure Months  \\\n",
              "0     90003               0        0           0              2   \n",
              "1     90005               0        0           1              2   \n",
              "2     90006               0        0           1              8   \n",
              "3     90010               0        1           1             28   \n",
              "4     90015               0        0           1             49   \n",
              "\n",
              "  Internet Service Online Security Online Backup Device Protection  \\\n",
              "0              DSL             Yes           Yes                No   \n",
              "1      Fiber optic              No            No                No   \n",
              "2      Fiber optic              No            No               Yes   \n",
              "3      Fiber optic              No            No               Yes   \n",
              "4      Fiber optic              No           Yes               Yes   \n",
              "\n",
              "  Tech Support Streaming TV Streaming Movies        Contract  \\\n",
              "0           No           No               No  Month-to-month   \n",
              "1           No           No               No  Month-to-month   \n",
              "2           No          Yes              Yes  Month-to-month   \n",
              "3          Yes          Yes              Yes  Month-to-month   \n",
              "4           No          Yes              Yes  Month-to-month   \n",
              "\n",
              "   Paperless Billing    Payment Method  Monthly Charges  Total Charges  \\\n",
              "0                  1      Mailed check            53.85         108.15   \n",
              "1                  1  Electronic check            70.70         151.65   \n",
              "2                  1  Electronic check            99.65         820.50   \n",
              "3                  1  Electronic check           104.80        3046.05   \n",
              "4                  1     Bank transfer           103.70        5036.30   \n",
              "\n",
              "   Churn Label  \n",
              "0            1  \n",
              "1            1  \n",
              "2            1  \n",
              "3            1  \n",
              "4            1  "
            ],
            "text/html": [
              "\n",
              "  <div id=\"df-405306ff-4869-480d-9411-f7eea2fb056c\">\n",
              "    <div class=\"colab-df-container\">\n",
              "      <div>\n",
              "<style scoped>\n",
              "    .dataframe tbody tr th:only-of-type {\n",
              "        vertical-align: middle;\n",
              "    }\n",
              "\n",
              "    .dataframe tbody tr th {\n",
              "        vertical-align: top;\n",
              "    }\n",
              "\n",
              "    .dataframe thead th {\n",
              "        text-align: right;\n",
              "    }\n",
              "</style>\n",
              "<table border=\"1\" class=\"dataframe\">\n",
              "  <thead>\n",
              "    <tr style=\"text-align: right;\">\n",
              "      <th></th>\n",
              "      <th>Zip Code</th>\n",
              "      <th>Senior Citizen</th>\n",
              "      <th>Partner</th>\n",
              "      <th>Dependents</th>\n",
              "      <th>Tenure Months</th>\n",
              "      <th>Internet Service</th>\n",
              "      <th>Online Security</th>\n",
              "      <th>Online Backup</th>\n",
              "      <th>Device Protection</th>\n",
              "      <th>Tech Support</th>\n",
              "      <th>Streaming TV</th>\n",
              "      <th>Streaming Movies</th>\n",
              "      <th>Contract</th>\n",
              "      <th>Paperless Billing</th>\n",
              "      <th>Payment Method</th>\n",
              "      <th>Monthly Charges</th>\n",
              "      <th>Total Charges</th>\n",
              "      <th>Churn Label</th>\n",
              "    </tr>\n",
              "  </thead>\n",
              "  <tbody>\n",
              "    <tr>\n",
              "      <th>0</th>\n",
              "      <td>90003</td>\n",
              "      <td>0</td>\n",
              "      <td>0</td>\n",
              "      <td>0</td>\n",
              "      <td>2</td>\n",
              "      <td>DSL</td>\n",
              "      <td>Yes</td>\n",
              "      <td>Yes</td>\n",
              "      <td>No</td>\n",
              "      <td>No</td>\n",
              "      <td>No</td>\n",
              "      <td>No</td>\n",
              "      <td>Month-to-month</td>\n",
              "      <td>1</td>\n",
              "      <td>Mailed check</td>\n",
              "      <td>53.85</td>\n",
              "      <td>108.15</td>\n",
              "      <td>1</td>\n",
              "    </tr>\n",
              "    <tr>\n",
              "      <th>1</th>\n",
              "      <td>90005</td>\n",
              "      <td>0</td>\n",
              "      <td>0</td>\n",
              "      <td>1</td>\n",
              "      <td>2</td>\n",
              "      <td>Fiber optic</td>\n",
              "      <td>No</td>\n",
              "      <td>No</td>\n",
              "      <td>No</td>\n",
              "      <td>No</td>\n",
              "      <td>No</td>\n",
              "      <td>No</td>\n",
              "      <td>Month-to-month</td>\n",
              "      <td>1</td>\n",
              "      <td>Electronic check</td>\n",
              "      <td>70.70</td>\n",
              "      <td>151.65</td>\n",
              "      <td>1</td>\n",
              "    </tr>\n",
              "    <tr>\n",
              "      <th>2</th>\n",
              "      <td>90006</td>\n",
              "      <td>0</td>\n",
              "      <td>0</td>\n",
              "      <td>1</td>\n",
              "      <td>8</td>\n",
              "      <td>Fiber optic</td>\n",
              "      <td>No</td>\n",
              "      <td>No</td>\n",
              "      <td>Yes</td>\n",
              "      <td>No</td>\n",
              "      <td>Yes</td>\n",
              "      <td>Yes</td>\n",
              "      <td>Month-to-month</td>\n",
              "      <td>1</td>\n",
              "      <td>Electronic check</td>\n",
              "      <td>99.65</td>\n",
              "      <td>820.50</td>\n",
              "      <td>1</td>\n",
              "    </tr>\n",
              "    <tr>\n",
              "      <th>3</th>\n",
              "      <td>90010</td>\n",
              "      <td>0</td>\n",
              "      <td>1</td>\n",
              "      <td>1</td>\n",
              "      <td>28</td>\n",
              "      <td>Fiber optic</td>\n",
              "      <td>No</td>\n",
              "      <td>No</td>\n",
              "      <td>Yes</td>\n",
              "      <td>Yes</td>\n",
              "      <td>Yes</td>\n",
              "      <td>Yes</td>\n",
              "      <td>Month-to-month</td>\n",
              "      <td>1</td>\n",
              "      <td>Electronic check</td>\n",
              "      <td>104.80</td>\n",
              "      <td>3046.05</td>\n",
              "      <td>1</td>\n",
              "    </tr>\n",
              "    <tr>\n",
              "      <th>4</th>\n",
              "      <td>90015</td>\n",
              "      <td>0</td>\n",
              "      <td>0</td>\n",
              "      <td>1</td>\n",
              "      <td>49</td>\n",
              "      <td>Fiber optic</td>\n",
              "      <td>No</td>\n",
              "      <td>Yes</td>\n",
              "      <td>Yes</td>\n",
              "      <td>No</td>\n",
              "      <td>Yes</td>\n",
              "      <td>Yes</td>\n",
              "      <td>Month-to-month</td>\n",
              "      <td>1</td>\n",
              "      <td>Bank transfer</td>\n",
              "      <td>103.70</td>\n",
              "      <td>5036.30</td>\n",
              "      <td>1</td>\n",
              "    </tr>\n",
              "  </tbody>\n",
              "</table>\n",
              "</div>\n",
              "      <button class=\"colab-df-convert\" onclick=\"convertToInteractive('df-405306ff-4869-480d-9411-f7eea2fb056c')\"\n",
              "              title=\"Convert this dataframe to an interactive table.\"\n",
              "              style=\"display:none;\">\n",
              "        \n",
              "  <svg xmlns=\"http://www.w3.org/2000/svg\" height=\"24px\"viewBox=\"0 0 24 24\"\n",
              "       width=\"24px\">\n",
              "    <path d=\"M0 0h24v24H0V0z\" fill=\"none\"/>\n",
              "    <path d=\"M18.56 5.44l.94 2.06.94-2.06 2.06-.94-2.06-.94-.94-2.06-.94 2.06-2.06.94zm-11 1L8.5 8.5l.94-2.06 2.06-.94-2.06-.94L8.5 2.5l-.94 2.06-2.06.94zm10 10l.94 2.06.94-2.06 2.06-.94-2.06-.94-.94-2.06-.94 2.06-2.06.94z\"/><path d=\"M17.41 7.96l-1.37-1.37c-.4-.4-.92-.59-1.43-.59-.52 0-1.04.2-1.43.59L10.3 9.45l-7.72 7.72c-.78.78-.78 2.05 0 2.83L4 21.41c.39.39.9.59 1.41.59.51 0 1.02-.2 1.41-.59l7.78-7.78 2.81-2.81c.8-.78.8-2.07 0-2.86zM5.41 20L4 18.59l7.72-7.72 1.47 1.35L5.41 20z\"/>\n",
              "  </svg>\n",
              "      </button>\n",
              "      \n",
              "  <style>\n",
              "    .colab-df-container {\n",
              "      display:flex;\n",
              "      flex-wrap:wrap;\n",
              "      gap: 12px;\n",
              "    }\n",
              "\n",
              "    .colab-df-convert {\n",
              "      background-color: #E8F0FE;\n",
              "      border: none;\n",
              "      border-radius: 50%;\n",
              "      cursor: pointer;\n",
              "      display: none;\n",
              "      fill: #1967D2;\n",
              "      height: 32px;\n",
              "      padding: 0 0 0 0;\n",
              "      width: 32px;\n",
              "    }\n",
              "\n",
              "    .colab-df-convert:hover {\n",
              "      background-color: #E2EBFA;\n",
              "      box-shadow: 0px 1px 2px rgba(60, 64, 67, 0.3), 0px 1px 3px 1px rgba(60, 64, 67, 0.15);\n",
              "      fill: #174EA6;\n",
              "    }\n",
              "\n",
              "    [theme=dark] .colab-df-convert {\n",
              "      background-color: #3B4455;\n",
              "      fill: #D2E3FC;\n",
              "    }\n",
              "\n",
              "    [theme=dark] .colab-df-convert:hover {\n",
              "      background-color: #434B5C;\n",
              "      box-shadow: 0px 1px 3px 1px rgba(0, 0, 0, 0.15);\n",
              "      filter: drop-shadow(0px 1px 2px rgba(0, 0, 0, 0.3));\n",
              "      fill: #FFFFFF;\n",
              "    }\n",
              "  </style>\n",
              "\n",
              "      <script>\n",
              "        const buttonEl =\n",
              "          document.querySelector('#df-405306ff-4869-480d-9411-f7eea2fb056c button.colab-df-convert');\n",
              "        buttonEl.style.display =\n",
              "          google.colab.kernel.accessAllowed ? 'block' : 'none';\n",
              "\n",
              "        async function convertToInteractive(key) {\n",
              "          const element = document.querySelector('#df-405306ff-4869-480d-9411-f7eea2fb056c');\n",
              "          const dataTable =\n",
              "            await google.colab.kernel.invokeFunction('convertToInteractive',\n",
              "                                                     [key], {});\n",
              "          if (!dataTable) return;\n",
              "\n",
              "          const docLinkHtml = 'Like what you see? Visit the ' +\n",
              "            '<a target=\"_blank\" href=https://colab.research.google.com/notebooks/data_table.ipynb>data table notebook</a>'\n",
              "            + ' to learn more about interactive tables.';\n",
              "          element.innerHTML = '';\n",
              "          dataTable['output_type'] = 'display_data';\n",
              "          await google.colab.output.renderOutput(dataTable, element);\n",
              "          const docLink = document.createElement('div');\n",
              "          docLink.innerHTML = docLinkHtml;\n",
              "          element.appendChild(docLink);\n",
              "        }\n",
              "      </script>\n",
              "    </div>\n",
              "  </div>\n",
              "  "
            ]
          },
          "metadata": {},
          "execution_count": 33
        }
      ]
    },
    {
      "cell_type": "code",
      "source": [
        "df_trans.columns"
      ],
      "metadata": {
        "colab": {
          "base_uri": "https://localhost:8080/"
        },
        "id": "0llv739kFNRM",
        "outputId": "2a0a57f8-197f-44fa-c966-48ede6776999"
      },
      "execution_count": null,
      "outputs": [
        {
          "output_type": "execute_result",
          "data": {
            "text/plain": [
              "Index(['Zip Code', 'Senior Citizen', 'Partner', 'Dependents', 'Tenure Months',\n",
              "       'Internet Service', 'Online Security', 'Online Backup',\n",
              "       'Device Protection', 'Tech Support', 'Streaming TV', 'Streaming Movies',\n",
              "       'Contract', 'Paperless Billing', 'Payment Method', 'Monthly Charges',\n",
              "       'Total Charges', 'Churn Label'],\n",
              "      dtype='object')"
            ]
          },
          "metadata": {},
          "execution_count": 34
        }
      ]
    },
    {
      "cell_type": "markdown",
      "source": [
        "One-hot encoding"
      ],
      "metadata": {
        "id": "DkmN9-XKGizZ"
      }
    },
    {
      "cell_type": "code",
      "source": [
        "one_hot_encoding_columns = ['Internet Service', 'Online Security', 'Online Backup',\n",
        "                            'Device Protection', 'Tech Support', 'Streaming TV',  'Streaming Movies', 'Contract', 'Payment Method']\n",
        "\n",
        "# encode categorical variables with more than two levels using one-hot encoding\n",
        "df_trans = pd.get_dummies(df_trans, columns = one_hot_encoding_columns)"
      ],
      "metadata": {
        "id": "6INxeqN9Q-I7",
        "colab": {
          "base_uri": "https://localhost:8080/",
          "height": 351
        },
        "outputId": "1b5c1bdc-ecac-49c2-f63d-089a365b727e"
      },
      "execution_count": null,
      "outputs": [
        {
          "output_type": "execute_result",
          "data": {
            "text/plain": [
              "   Zip Code  Senior Citizen  Partner  Dependents  Tenure Months  \\\n",
              "0     90003               0        0           0              2   \n",
              "1     90005               0        0           1              2   \n",
              "2     90006               0        0           1              8   \n",
              "3     90010               0        1           1             28   \n",
              "4     90015               0        0           1             49   \n",
              "\n",
              "   Paperless Billing  Monthly Charges  Total Charges  Churn Label  \\\n",
              "0                  1            53.85         108.15            1   \n",
              "1                  1            70.70         151.65            1   \n",
              "2                  1            99.65         820.50            1   \n",
              "3                  1           104.80        3046.05            1   \n",
              "4                  1           103.70        5036.30            1   \n",
              "\n",
              "   Internet Service_DSL  ...  Streaming Movies_No  \\\n",
              "0                     1  ...                    1   \n",
              "1                     0  ...                    1   \n",
              "2                     0  ...                    0   \n",
              "3                     0  ...                    0   \n",
              "4                     0  ...                    0   \n",
              "\n",
              "   Streaming Movies_No internet service  Streaming Movies_Yes  \\\n",
              "0                                     0                     0   \n",
              "1                                     0                     0   \n",
              "2                                     0                     1   \n",
              "3                                     0                     1   \n",
              "4                                     0                     1   \n",
              "\n",
              "   Contract_Month-to-month  Contract_One year  Contract_Two year  \\\n",
              "0                        1                  0                  0   \n",
              "1                        1                  0                  0   \n",
              "2                        1                  0                  0   \n",
              "3                        1                  0                  0   \n",
              "4                        1                  0                  0   \n",
              "\n",
              "   Payment Method_Bank transfer  Payment Method_Credit card  \\\n",
              "0                             0                           0   \n",
              "1                             0                           0   \n",
              "2                             0                           0   \n",
              "3                             0                           0   \n",
              "4                             1                           0   \n",
              "\n",
              "   Payment Method_Electronic check  Payment Method_Mailed check  \n",
              "0                                0                            1  \n",
              "1                                1                            0  \n",
              "2                                1                            0  \n",
              "3                                1                            0  \n",
              "4                                0                            0  \n",
              "\n",
              "[5 rows x 37 columns]"
            ],
            "text/html": [
              "\n",
              "  <div id=\"df-63b4d42b-2942-466f-874a-a2a1cddd6899\">\n",
              "    <div class=\"colab-df-container\">\n",
              "      <div>\n",
              "<style scoped>\n",
              "    .dataframe tbody tr th:only-of-type {\n",
              "        vertical-align: middle;\n",
              "    }\n",
              "\n",
              "    .dataframe tbody tr th {\n",
              "        vertical-align: top;\n",
              "    }\n",
              "\n",
              "    .dataframe thead th {\n",
              "        text-align: right;\n",
              "    }\n",
              "</style>\n",
              "<table border=\"1\" class=\"dataframe\">\n",
              "  <thead>\n",
              "    <tr style=\"text-align: right;\">\n",
              "      <th></th>\n",
              "      <th>Zip Code</th>\n",
              "      <th>Senior Citizen</th>\n",
              "      <th>Partner</th>\n",
              "      <th>Dependents</th>\n",
              "      <th>Tenure Months</th>\n",
              "      <th>Paperless Billing</th>\n",
              "      <th>Monthly Charges</th>\n",
              "      <th>Total Charges</th>\n",
              "      <th>Churn Label</th>\n",
              "      <th>Internet Service_DSL</th>\n",
              "      <th>...</th>\n",
              "      <th>Streaming Movies_No</th>\n",
              "      <th>Streaming Movies_No internet service</th>\n",
              "      <th>Streaming Movies_Yes</th>\n",
              "      <th>Contract_Month-to-month</th>\n",
              "      <th>Contract_One year</th>\n",
              "      <th>Contract_Two year</th>\n",
              "      <th>Payment Method_Bank transfer</th>\n",
              "      <th>Payment Method_Credit card</th>\n",
              "      <th>Payment Method_Electronic check</th>\n",
              "      <th>Payment Method_Mailed check</th>\n",
              "    </tr>\n",
              "  </thead>\n",
              "  <tbody>\n",
              "    <tr>\n",
              "      <th>0</th>\n",
              "      <td>90003</td>\n",
              "      <td>0</td>\n",
              "      <td>0</td>\n",
              "      <td>0</td>\n",
              "      <td>2</td>\n",
              "      <td>1</td>\n",
              "      <td>53.85</td>\n",
              "      <td>108.15</td>\n",
              "      <td>1</td>\n",
              "      <td>1</td>\n",
              "      <td>...</td>\n",
              "      <td>1</td>\n",
              "      <td>0</td>\n",
              "      <td>0</td>\n",
              "      <td>1</td>\n",
              "      <td>0</td>\n",
              "      <td>0</td>\n",
              "      <td>0</td>\n",
              "      <td>0</td>\n",
              "      <td>0</td>\n",
              "      <td>1</td>\n",
              "    </tr>\n",
              "    <tr>\n",
              "      <th>1</th>\n",
              "      <td>90005</td>\n",
              "      <td>0</td>\n",
              "      <td>0</td>\n",
              "      <td>1</td>\n",
              "      <td>2</td>\n",
              "      <td>1</td>\n",
              "      <td>70.70</td>\n",
              "      <td>151.65</td>\n",
              "      <td>1</td>\n",
              "      <td>0</td>\n",
              "      <td>...</td>\n",
              "      <td>1</td>\n",
              "      <td>0</td>\n",
              "      <td>0</td>\n",
              "      <td>1</td>\n",
              "      <td>0</td>\n",
              "      <td>0</td>\n",
              "      <td>0</td>\n",
              "      <td>0</td>\n",
              "      <td>1</td>\n",
              "      <td>0</td>\n",
              "    </tr>\n",
              "    <tr>\n",
              "      <th>2</th>\n",
              "      <td>90006</td>\n",
              "      <td>0</td>\n",
              "      <td>0</td>\n",
              "      <td>1</td>\n",
              "      <td>8</td>\n",
              "      <td>1</td>\n",
              "      <td>99.65</td>\n",
              "      <td>820.50</td>\n",
              "      <td>1</td>\n",
              "      <td>0</td>\n",
              "      <td>...</td>\n",
              "      <td>0</td>\n",
              "      <td>0</td>\n",
              "      <td>1</td>\n",
              "      <td>1</td>\n",
              "      <td>0</td>\n",
              "      <td>0</td>\n",
              "      <td>0</td>\n",
              "      <td>0</td>\n",
              "      <td>1</td>\n",
              "      <td>0</td>\n",
              "    </tr>\n",
              "    <tr>\n",
              "      <th>3</th>\n",
              "      <td>90010</td>\n",
              "      <td>0</td>\n",
              "      <td>1</td>\n",
              "      <td>1</td>\n",
              "      <td>28</td>\n",
              "      <td>1</td>\n",
              "      <td>104.80</td>\n",
              "      <td>3046.05</td>\n",
              "      <td>1</td>\n",
              "      <td>0</td>\n",
              "      <td>...</td>\n",
              "      <td>0</td>\n",
              "      <td>0</td>\n",
              "      <td>1</td>\n",
              "      <td>1</td>\n",
              "      <td>0</td>\n",
              "      <td>0</td>\n",
              "      <td>0</td>\n",
              "      <td>0</td>\n",
              "      <td>1</td>\n",
              "      <td>0</td>\n",
              "    </tr>\n",
              "    <tr>\n",
              "      <th>4</th>\n",
              "      <td>90015</td>\n",
              "      <td>0</td>\n",
              "      <td>0</td>\n",
              "      <td>1</td>\n",
              "      <td>49</td>\n",
              "      <td>1</td>\n",
              "      <td>103.70</td>\n",
              "      <td>5036.30</td>\n",
              "      <td>1</td>\n",
              "      <td>0</td>\n",
              "      <td>...</td>\n",
              "      <td>0</td>\n",
              "      <td>0</td>\n",
              "      <td>1</td>\n",
              "      <td>1</td>\n",
              "      <td>0</td>\n",
              "      <td>0</td>\n",
              "      <td>1</td>\n",
              "      <td>0</td>\n",
              "      <td>0</td>\n",
              "      <td>0</td>\n",
              "    </tr>\n",
              "  </tbody>\n",
              "</table>\n",
              "<p>5 rows × 37 columns</p>\n",
              "</div>\n",
              "      <button class=\"colab-df-convert\" onclick=\"convertToInteractive('df-63b4d42b-2942-466f-874a-a2a1cddd6899')\"\n",
              "              title=\"Convert this dataframe to an interactive table.\"\n",
              "              style=\"display:none;\">\n",
              "        \n",
              "  <svg xmlns=\"http://www.w3.org/2000/svg\" height=\"24px\"viewBox=\"0 0 24 24\"\n",
              "       width=\"24px\">\n",
              "    <path d=\"M0 0h24v24H0V0z\" fill=\"none\"/>\n",
              "    <path d=\"M18.56 5.44l.94 2.06.94-2.06 2.06-.94-2.06-.94-.94-2.06-.94 2.06-2.06.94zm-11 1L8.5 8.5l.94-2.06 2.06-.94-2.06-.94L8.5 2.5l-.94 2.06-2.06.94zm10 10l.94 2.06.94-2.06 2.06-.94-2.06-.94-.94-2.06-.94 2.06-2.06.94z\"/><path d=\"M17.41 7.96l-1.37-1.37c-.4-.4-.92-.59-1.43-.59-.52 0-1.04.2-1.43.59L10.3 9.45l-7.72 7.72c-.78.78-.78 2.05 0 2.83L4 21.41c.39.39.9.59 1.41.59.51 0 1.02-.2 1.41-.59l7.78-7.78 2.81-2.81c.8-.78.8-2.07 0-2.86zM5.41 20L4 18.59l7.72-7.72 1.47 1.35L5.41 20z\"/>\n",
              "  </svg>\n",
              "      </button>\n",
              "      \n",
              "  <style>\n",
              "    .colab-df-container {\n",
              "      display:flex;\n",
              "      flex-wrap:wrap;\n",
              "      gap: 12px;\n",
              "    }\n",
              "\n",
              "    .colab-df-convert {\n",
              "      background-color: #E8F0FE;\n",
              "      border: none;\n",
              "      border-radius: 50%;\n",
              "      cursor: pointer;\n",
              "      display: none;\n",
              "      fill: #1967D2;\n",
              "      height: 32px;\n",
              "      padding: 0 0 0 0;\n",
              "      width: 32px;\n",
              "    }\n",
              "\n",
              "    .colab-df-convert:hover {\n",
              "      background-color: #E2EBFA;\n",
              "      box-shadow: 0px 1px 2px rgba(60, 64, 67, 0.3), 0px 1px 3px 1px rgba(60, 64, 67, 0.15);\n",
              "      fill: #174EA6;\n",
              "    }\n",
              "\n",
              "    [theme=dark] .colab-df-convert {\n",
              "      background-color: #3B4455;\n",
              "      fill: #D2E3FC;\n",
              "    }\n",
              "\n",
              "    [theme=dark] .colab-df-convert:hover {\n",
              "      background-color: #434B5C;\n",
              "      box-shadow: 0px 1px 3px 1px rgba(0, 0, 0, 0.15);\n",
              "      filter: drop-shadow(0px 1px 2px rgba(0, 0, 0, 0.3));\n",
              "      fill: #FFFFFF;\n",
              "    }\n",
              "  </style>\n",
              "\n",
              "      <script>\n",
              "        const buttonEl =\n",
              "          document.querySelector('#df-63b4d42b-2942-466f-874a-a2a1cddd6899 button.colab-df-convert');\n",
              "        buttonEl.style.display =\n",
              "          google.colab.kernel.accessAllowed ? 'block' : 'none';\n",
              "\n",
              "        async function convertToInteractive(key) {\n",
              "          const element = document.querySelector('#df-63b4d42b-2942-466f-874a-a2a1cddd6899');\n",
              "          const dataTable =\n",
              "            await google.colab.kernel.invokeFunction('convertToInteractive',\n",
              "                                                     [key], {});\n",
              "          if (!dataTable) return;\n",
              "\n",
              "          const docLinkHtml = 'Like what you see? Visit the ' +\n",
              "            '<a target=\"_blank\" href=https://colab.research.google.com/notebooks/data_table.ipynb>data table notebook</a>'\n",
              "            + ' to learn more about interactive tables.';\n",
              "          element.innerHTML = '';\n",
              "          dataTable['output_type'] = 'display_data';\n",
              "          await google.colab.output.renderOutput(dataTable, element);\n",
              "          const docLink = document.createElement('div');\n",
              "          docLink.innerHTML = docLinkHtml;\n",
              "          element.appendChild(docLink);\n",
              "        }\n",
              "      </script>\n",
              "    </div>\n",
              "  </div>\n",
              "  "
            ]
          },
          "metadata": {},
          "execution_count": 35
        }
      ]
    },
    {
      "cell_type": "code",
      "source": [
        "df_trans.corr()['Churn Label'].sort_values(ascending = True).plot(kind = 'bar', figsize = (20,5))"
      ],
      "metadata": {
        "colab": {
          "base_uri": "https://localhost:8080/",
          "height": 555
        },
        "id": "1MbqjB_7JI_E",
        "outputId": "d6143349-ba7b-4502-e07d-a4991a94460f"
      },
      "execution_count": null,
      "outputs": [
        {
          "output_type": "execute_result",
          "data": {
            "text/plain": [
              "<matplotlib.axes._subplots.AxesSubplot at 0x7f50d2579810>"
            ]
          },
          "metadata": {},
          "execution_count": 36
        },
        {
          "output_type": "display_data",
          "data": {
            "text/plain": [
              "<Figure size 1440x360 with 1 Axes>"
            ],
            "image/png": "[encoded data removed]"
          },
          "metadata": {
            "needs_background": "light"
          }
        }
      ]
    },
    {
      "cell_type": "markdown",
      "source": [
        "Normalization"
      ],
      "metadata": {
        "id": "GAtxzD_wP2_0"
      }
    },
    {
      "cell_type": "code",
      "source": [
        "cols = ['Tenure Months', 'Monthly Charges', 'Total Charges']\n",
        "\n",
        "for column in cols:\n",
        "        minc = df_trans[column].min()\n",
        "        maxc = df_trans[column].max()\n",
        "\n",
        "        df_trans[column] = (df_trans[column] - minc) / (maxc - minc)"
      ],
      "metadata": {
        "id": "pN3iXE16PtF4"
      },
      "execution_count": null,
      "outputs": []
    },
    {
      "cell_type": "markdown",
      "source": [
        "Feature Selection"
      ],
      "metadata": {
        "id": "aDQDzX8wK8bu"
      }
    },
    {
      "cell_type": "code",
      "source": [
        "X = df_trans.drop(['Churn Label'], axis = 1)\n",
        "y = df_trans['Churn Label']"
      ],
      "metadata": {
        "id": "bLPFnXQrGim3"
      },
      "execution_count": null,
      "outputs": []
    },
    {
      "cell_type": "code",
      "source": [
        "sel =  SelectFpr(chi2, alpha=0.01)\n",
        "sel.fit(X, y)\n",
        "X_new = sel.transform(X)\n",
        "\n",
        "features = pd.DataFrame({'columns': X.columns, 'Kept': sel.get_support()})\n",
        "\n",
        "X_fpr = X.iloc[:,sel.get_support()]"
      ],
      "metadata": {
        "id": "njXXEsYxSIXB"
      },
      "execution_count": null,
      "outputs": []
    },
    {
      "cell_type": "code",
      "source": [
        "sel =  SelectKBest(f_classif, k=20)\n",
        "sel.fit(X, y)\n",
        "X_new = sel.transform(X)\n",
        "\n",
        "features = pd.DataFrame({'columns': X.columns, 'Kept': sel.get_support()})\n",
        "\n",
        "X_fc = X.iloc[:,sel.get_support()]"
      ],
      "metadata": {
        "id": "dQmwrV3KQow9"
      },
      "execution_count": null,
      "outputs": []
    },
    {
      "cell_type": "code",
      "source": [
        "sel =  SelectKBest(chi2, k=20)\n",
        "sel.fit(X, y)\n",
        "X_new = sel.transform(X)\n",
        "\n",
        "features = pd.DataFrame({'columns': X.columns, 'Kept': sel.get_support()})\n",
        "\n",
        "X_chi2 = X.iloc[:,sel.get_support()]"
      ],
      "metadata": {
        "id": "9g3LIHV0ZhyO"
      },
      "execution_count": null,
      "outputs": []
    },
    {
      "cell_type": "code",
      "source": [
        "sel =  SelectKBest(f_regression, k=20)\n",
        "sel.fit(X, y)\n",
        "X_new = sel.transform(X)\n",
        "\n",
        "features = pd.DataFrame({'columns': X.columns, 'Kept': sel.get_support()})\n",
        "\n",
        "X_fr = X.iloc[:,sel.get_support()]"
      ],
      "metadata": {
        "id": "BQ53c-szZoA2"
      },
      "execution_count": null,
      "outputs": []
    },
    {
      "cell_type": "markdown",
      "source": [
        "## Addressing class imbalance"
      ],
      "metadata": {
        "id": "Goi-hP8YP9_S"
      }
    },
    {
      "cell_type": "code",
      "source": [
        "fig = plt.figure(figsize=(5, 3))\n",
        "ax = fig.add_subplot(111)\n",
        "\n",
        "r = df_trans['Churn Label'].value_counts()\n",
        "\n",
        "r.plot(kind = 'bar', ax = ax, color=['#FFF0CA','#C9E45F'], width = 0.8)\n",
        "\n",
        "ax.set_title('Class imbalance in response variable')\n",
        "ax.set_xlabel('Churn Label')\n",
        "ax.set_ylabel('Number of customers')\n",
        "ax.tick_params(rotation='auto')"
      ],
      "metadata": {
        "colab": {
          "base_uri": "https://localhost:8080/"
        },
        "id": "V2JStLbAICvd",
        "outputId": "fb9c5d8f-a49d-46e2-b231-bf4ab1bd5da0"
      },
      "execution_count": null,
      "outputs": [
        {
          "output_type": "display_data",
          "data": {
            "text/plain": [
              "<Figure size 360x216 with 1 Axes>"
            ],
            "image/png": "[encoded data removed]"
          },
          "metadata": {
            "needs_background": "light"
          }
        }
      ]
    },
    {
      "cell_type": "markdown",
      "source": [
        "### Undersampling"
      ],
      "metadata": {
        "id": "MKX_U5LaQ2rE"
      }
    },
    {
      "cell_type": "code",
      "source": [
        "def undersample(X,y):\n",
        "\n",
        "  X_train, X_test, y_train, y_test = train_test_split(X, y, test_size=0.30, random_state=0)\n",
        "\n",
        "  rus = RandomUnderSampler(random_state=0)\n",
        "  X_under, y_under = rus.fit_resample(X_train, y_train)\n",
        "\n",
        "  return [X_under, X_test, y_under, y_test]"
      ],
      "metadata": {
        "id": "P4niFIN0dGtg"
      },
      "execution_count": null,
      "outputs": []
    },
    {
      "cell_type": "markdown",
      "source": [
        "### Oversampling"
      ],
      "metadata": {
        "id": "uTcOn-8VcCcp"
      }
    },
    {
      "cell_type": "code",
      "source": [
        "def oversample(X,y):\n",
        "\n",
        "  X_train, X_test, y_train, y_test = train_test_split(X_over, y_over, test_size=0.30, random_state=0)\n",
        "\n",
        "  sm = SMOTE(random_state=42)\n",
        "  X_over, y_over = sm.fit_resample(X_train, y_train)\n",
        "\n",
        "  return [X_train, X_test, y_train, y_test]"
      ],
      "metadata": {
        "id": "gGK03fBYd1RP"
      },
      "execution_count": null,
      "outputs": []
    },
    {
      "cell_type": "markdown",
      "source": [
        "## K-Nearest Neighbours"
      ],
      "metadata": {
        "id": "WweQPvT3v0Ti"
      }
    },
    {
      "cell_type": "code",
      "source": [
        "def execute_knn(x_col, x_test, y_col, y_t):\n",
        "  knn = KNeighborsClassifier(n_neighbors=5)\n",
        "  knn.fit(x_col, y_col)\n",
        "\n",
        "  y_pred = knn.predict(x_test)\n",
        "  print(\"Accuracy:\",accuracy_score(y_t,y_pred))\n",
        "  print(\"\\nClassification Report:\\n\")\n",
        "  print(classification_report(y_t,y_pred))\n"
      ],
      "metadata": {
        "id": "gVT3mVwPMf6m"
      },
      "execution_count": null,
      "outputs": []
    },
    {
      "cell_type": "code",
      "source": [
        "def knn_all(X,y):\n",
        "\n",
        "  X_train, X_test, y_train, y_test = train_test_split(X, y, test_size=0.30, random_state=0)\n",
        "\n",
        "  print(\"\\nK-Nearest Neighbours - without any sampling:\")\n",
        "  execute_knn(X_train, X_test, y_train, y_test)\n",
        "\n",
        "  X_train, X_test, y_train, y_test = undersample(X,y)\n",
        "  print(\"\\nK-Nearest Neighbours - Undersampling:\")\n",
        "  execute_knn(X_train, X_test, y_train, y_test)\n",
        "\n",
        "  X_train, X_test, y_train, y_test = oversample(X,y)\n",
        "  print(\"\\nK-Nearest Neighbours - Oversampling:\")\n",
        "  execute_knn(X_train, X_test, y_train, y_test)"
      ],
      "metadata": {
        "id": "hwn39NIXefWR"
      },
      "execution_count": null,
      "outputs": []
    },
    {
      "cell_type": "code",
      "source": [
        "# No sampling Data\n",
        "knn_all(X,y)"
      ],
      "metadata": {
        "colab": {
          "base_uri": "https://localhost:8080/"
        },
        "id": "CoeFRp9qOslx",
        "outputId": "25441ef2-d1d1-4fa9-ec1b-f4d4bc7f83c2"
      },
      "execution_count": null,
      "outputs": [
        {
          "output_type": "stream",
          "name": "stdout",
          "text": [
            "\n",
            "K-Nearest Neighbours - without any sampling:\n",
            "Accuracy: 0.7109004739336493\n",
            "\n",
            "Classification Report:\n",
            "\n",
            "              precision    recall  f1-score   support\n",
            "\n",
            "           0       0.78      0.85      0.81      1557\n",
            "           1       0.43      0.32      0.37       553\n",
            "\n",
            "    accuracy                           0.71      2110\n",
            "   macro avg       0.61      0.59      0.59      2110\n",
            "weighted avg       0.69      0.71      0.70      2110\n",
            "\n",
            "\n",
            "K-Nearest Neighbours - Undersampling:\n",
            "Accuracy: 0.5289099526066351\n",
            "\n",
            "Classification Report:\n",
            "\n",
            "              precision    recall  f1-score   support\n",
            "\n",
            "           0       0.80      0.48      0.60      1557\n",
            "           1       0.31      0.66      0.42       553\n",
            "\n",
            "    accuracy                           0.53      2110\n",
            "   macro avg       0.55      0.57      0.51      2110\n",
            "weighted avg       0.67      0.53      0.56      2110\n",
            "\n",
            "\n",
            "K-Nearest Neighbours - Oversampling:\n",
            "Accuracy: 0.7165913492575855\n",
            "\n",
            "Classification Report:\n",
            "\n",
            "              precision    recall  f1-score   support\n",
            "\n",
            "           0       0.83      0.53      0.65      1522\n",
            "           1       0.67      0.89      0.76      1576\n",
            "\n",
            "    accuracy                           0.72      3098\n",
            "   macro avg       0.75      0.71      0.71      3098\n",
            "weighted avg       0.74      0.72      0.71      3098\n",
            "\n"
          ]
        }
      ]
    },
    {
      "cell_type": "code",
      "source": [
        "# Chi2 Feature Selection Data\n",
        "knn_all(X_chi2,y)"
      ],
      "metadata": {
        "colab": {
          "base_uri": "https://localhost:8080/"
        },
        "id": "QVZ_tyttMBPj",
        "outputId": "cd28267b-3da9-41e5-f442-b0eae7bed6a1"
      },
      "execution_count": null,
      "outputs": [
        {
          "output_type": "stream",
          "name": "stdout",
          "text": [
            "\n",
            "K-Nearest Neighbours - without any sampling:\n",
            "Accuracy: 0.7687203791469195\n",
            "\n",
            "Classification Report:\n",
            "\n",
            "              precision    recall  f1-score   support\n",
            "\n",
            "           0       0.83      0.86      0.85      1557\n",
            "           1       0.57      0.50      0.53       553\n",
            "\n",
            "    accuracy                           0.77      2110\n",
            "   macro avg       0.70      0.68      0.69      2110\n",
            "weighted avg       0.76      0.77      0.76      2110\n",
            "\n",
            "\n",
            "K-Nearest Neighbours - Undersampling:\n",
            "Accuracy: 0.7127962085308057\n",
            "\n",
            "Classification Report:\n",
            "\n",
            "              precision    recall  f1-score   support\n",
            "\n",
            "           0       0.88      0.70      0.78      1557\n",
            "           1       0.47      0.74      0.57       553\n",
            "\n",
            "    accuracy                           0.71      2110\n",
            "   macro avg       0.68      0.72      0.68      2110\n",
            "weighted avg       0.78      0.71      0.73      2110\n",
            "\n",
            "\n",
            "K-Nearest Neighbours - Oversampling:\n",
            "Accuracy: 0.7856681730148483\n",
            "\n",
            "Classification Report:\n",
            "\n",
            "              precision    recall  f1-score   support\n",
            "\n",
            "           0       0.80      0.76      0.78      1522\n",
            "           1       0.78      0.81      0.79      1576\n",
            "\n",
            "    accuracy                           0.79      3098\n",
            "   macro avg       0.79      0.79      0.79      3098\n",
            "weighted avg       0.79      0.79      0.79      3098\n",
            "\n"
          ]
        }
      ]
    },
    {
      "cell_type": "code",
      "source": [
        "# ANOVA Feature Selection Data\n",
        "knn_all(X_fc,y)"
      ],
      "metadata": {
        "colab": {
          "base_uri": "https://localhost:8080/"
        },
        "id": "UCOQbpleRPbN",
        "outputId": "9e018b5f-b26c-4ae4-c14a-200ad4427139"
      },
      "execution_count": null,
      "outputs": [
        {
          "output_type": "stream",
          "name": "stdout",
          "text": [
            "\n",
            "K-Nearest Neighbours - without any sampling:\n",
            "Accuracy: 0.7597156398104266\n",
            "\n",
            "Classification Report:\n",
            "\n",
            "              precision    recall  f1-score   support\n",
            "\n",
            "           0       0.82      0.86      0.84      1557\n",
            "           1       0.55      0.48      0.51       553\n",
            "\n",
            "    accuracy                           0.76      2110\n",
            "   macro avg       0.69      0.67      0.68      2110\n",
            "weighted avg       0.75      0.76      0.75      2110\n",
            "\n",
            "\n",
            "K-Nearest Neighbours - Undersampling:\n",
            "Accuracy: 0.7090047393364929\n",
            "\n",
            "Classification Report:\n",
            "\n",
            "              precision    recall  f1-score   support\n",
            "\n",
            "           0       0.88      0.70      0.78      1557\n",
            "           1       0.46      0.73      0.57       553\n",
            "\n",
            "    accuracy                           0.71      2110\n",
            "   macro avg       0.67      0.72      0.67      2110\n",
            "weighted avg       0.77      0.71      0.72      2110\n",
            "\n",
            "\n",
            "K-Nearest Neighbours - Oversampling:\n",
            "Accuracy: 0.7995480955455132\n",
            "\n",
            "Classification Report:\n",
            "\n",
            "              precision    recall  f1-score   support\n",
            "\n",
            "           0       0.84      0.74      0.78      1522\n",
            "           1       0.77      0.86      0.81      1576\n",
            "\n",
            "    accuracy                           0.80      3098\n",
            "   macro avg       0.80      0.80      0.80      3098\n",
            "weighted avg       0.80      0.80      0.80      3098\n",
            "\n"
          ]
        }
      ]
    },
    {
      "cell_type": "code",
      "source": [
        "# SelectFPR (False Positive Rate) Feature Selection Data\n",
        "knn_all(X_fpr,y)"
      ],
      "metadata": {
        "colab": {
          "base_uri": "https://localhost:8080/"
        },
        "id": "Vte-kzupL0cd",
        "outputId": "17cc256e-7bda-42f6-9ebd-2a61f4514f0c"
      },
      "execution_count": null,
      "outputs": [
        {
          "output_type": "stream",
          "name": "stdout",
          "text": [
            "\n",
            "K-Nearest Neighbours - without any sampling:\n",
            "Accuracy: 0.7696682464454976\n",
            "\n",
            "Classification Report:\n",
            "\n",
            "              precision    recall  f1-score   support\n",
            "\n",
            "           0       0.84      0.85      0.85      1557\n",
            "           1       0.56      0.54      0.55       553\n",
            "\n",
            "    accuracy                           0.77      2110\n",
            "   macro avg       0.70      0.70      0.70      2110\n",
            "weighted avg       0.77      0.77      0.77      2110\n",
            "\n",
            "\n",
            "K-Nearest Neighbours - Undersampling:\n",
            "Accuracy: 0.7018957345971564\n",
            "\n",
            "Classification Report:\n",
            "\n",
            "              precision    recall  f1-score   support\n",
            "\n",
            "           0       0.90      0.67      0.77      1557\n",
            "           1       0.46      0.80      0.58       553\n",
            "\n",
            "    accuracy                           0.70      2110\n",
            "   macro avg       0.68      0.73      0.68      2110\n",
            "weighted avg       0.79      0.70      0.72      2110\n",
            "\n",
            "\n",
            "K-Nearest Neighbours - Oversampling:\n",
            "Accuracy: 0.8111684958037444\n",
            "\n",
            "Classification Report:\n",
            "\n",
            "              precision    recall  f1-score   support\n",
            "\n",
            "           0       0.87      0.73      0.79      1522\n",
            "           1       0.77      0.89      0.83      1576\n",
            "\n",
            "    accuracy                           0.81      3098\n",
            "   macro avg       0.82      0.81      0.81      3098\n",
            "weighted avg       0.82      0.81      0.81      3098\n",
            "\n"
          ]
        }
      ]
    },
    {
      "cell_type": "markdown",
      "source": [
        "## Decision Tree"
      ],
      "metadata": {
        "id": "cCAMexO-nm6s"
      }
    },
    {
      "cell_type": "code",
      "source": [
        "def execute_dt(x_col, x_test, y_col, y_test):\n",
        "  clf = tree.DecisionTreeClassifier()\n",
        "  clf = clf.fit(x_col, y_col)\n",
        "\n",
        "  y_pred = clf.predict(x_test)\n",
        "\n",
        "  print(\"Accuracy:\",accuracy_score(y_test,y_pred))\n",
        "  print(\"\\nClassification Report:\\n\")\n",
        "  print(classification_report(y_test,y_pred))"
      ],
      "metadata": {
        "id": "S18SrVH6N1Xs"
      },
      "execution_count": null,
      "outputs": []
    },
    {
      "cell_type": "code",
      "source": [
        "def dt_all(X,y):\n",
        "\n",
        "  X_train, X_test, y_train, y_test = train_test_split(X, y, test_size=0.30, random_state=0)\n",
        "\n",
        "  print(\"\\nDecision Tree - without any sampling:\")\n",
        "  execute_dt(X_train, X_test, y_train, y_test)\n",
        "\n",
        "  X_train, X_test, y_train, y_test = undersample(X,y)\n",
        "  print(\"\\nDecision Tree - Undersampling:\")\n",
        "  execute_dt(X_train, X_test, y_train, y_test)\n",
        "\n",
        "  X_train, X_test, y_train, y_test = oversample(X,y)\n",
        "  print(\"\\nDecision Tree - Oversampling:\")\n",
        "  execute_dt(X_train, X_test, y_train, y_test)"
      ],
      "metadata": {
        "id": "6b3JznMcf5T4"
      },
      "execution_count": null,
      "outputs": []
    },
    {
      "cell_type": "code",
      "source": [
        "# SelectFPR (False Positive Rate) Feature Selection Data\n",
        "dt_all(X_fpr,y)"
      ],
      "metadata": {
        "colab": {
          "base_uri": "https://localhost:8080/"
        },
        "id": "TBR-JO1gO5pC",
        "outputId": "5cc493ab-320b-47ec-e24c-86581036a17f"
      },
      "execution_count": null,
      "outputs": [
        {
          "output_type": "stream",
          "name": "stdout",
          "text": [
            "\n",
            "Decision Tree - without any sampling:\n",
            "Accuracy: 0.7331753554502369\n",
            "\n",
            "Classification Report:\n",
            "\n",
            "              precision    recall  f1-score   support\n",
            "\n",
            "           0       0.81      0.83      0.82      1557\n",
            "           1       0.49      0.47      0.48       553\n",
            "\n",
            "    accuracy                           0.73      2110\n",
            "   macro avg       0.65      0.65      0.65      2110\n",
            "weighted avg       0.73      0.73      0.73      2110\n",
            "\n",
            "\n",
            "Decision Tree - Undersampling:\n",
            "Accuracy: 0.6872037914691943\n",
            "\n",
            "Classification Report:\n",
            "\n",
            "              precision    recall  f1-score   support\n",
            "\n",
            "           0       0.86      0.69      0.77      1557\n",
            "           1       0.44      0.67      0.53       553\n",
            "\n",
            "    accuracy                           0.69      2110\n",
            "   macro avg       0.65      0.68      0.65      2110\n",
            "weighted avg       0.75      0.69      0.70      2110\n",
            "\n",
            "\n",
            "Decision Tree - Oversampling:\n",
            "Accuracy: 0.7750161394448031\n",
            "\n",
            "Classification Report:\n",
            "\n",
            "              precision    recall  f1-score   support\n",
            "\n",
            "           0       0.77      0.78      0.77      1522\n",
            "           1       0.78      0.77      0.78      1576\n",
            "\n",
            "    accuracy                           0.78      3098\n",
            "   macro avg       0.77      0.78      0.77      3098\n",
            "weighted avg       0.78      0.78      0.78      3098\n",
            "\n"
          ]
        }
      ]
    },
    {
      "cell_type": "code",
      "source": [
        "# ANOVA Feature Selection Data\n",
        "dt_all(X_fc,y)"
      ],
      "metadata": {
        "colab": {
          "base_uri": "https://localhost:8080/"
        },
        "id": "S_mYl3RBrx6q",
        "outputId": "2c6bd344-e6a4-498d-aadc-7eb19d381bdb"
      },
      "execution_count": null,
      "outputs": [
        {
          "output_type": "stream",
          "name": "stdout",
          "text": [
            "\n",
            "Decision Tree - without any sampling:\n",
            "Accuracy: 0.7184834123222749\n",
            "\n",
            "Classification Report:\n",
            "\n",
            "              precision    recall  f1-score   support\n",
            "\n",
            "           0       0.81      0.80      0.81      1557\n",
            "           1       0.46      0.48      0.47       553\n",
            "\n",
            "    accuracy                           0.72      2110\n",
            "   macro avg       0.64      0.64      0.64      2110\n",
            "weighted avg       0.72      0.72      0.72      2110\n",
            "\n",
            "\n",
            "Decision Tree - Undersampling:\n",
            "Accuracy: 0.70521327014218\n",
            "\n",
            "Classification Report:\n",
            "\n",
            "              precision    recall  f1-score   support\n",
            "\n",
            "           0       0.87      0.71      0.78      1557\n",
            "           1       0.46      0.69      0.55       553\n",
            "\n",
            "    accuracy                           0.71      2110\n",
            "   macro avg       0.66      0.70      0.67      2110\n",
            "weighted avg       0.76      0.71      0.72      2110\n",
            "\n",
            "\n",
            "Decision Tree - Oversampling:\n",
            "Accuracy: 0.7591994835377663\n",
            "\n",
            "Classification Report:\n",
            "\n",
            "              precision    recall  f1-score   support\n",
            "\n",
            "           0       0.75      0.76      0.76      1522\n",
            "           1       0.76      0.76      0.76      1576\n",
            "\n",
            "    accuracy                           0.76      3098\n",
            "   macro avg       0.76      0.76      0.76      3098\n",
            "weighted avg       0.76      0.76      0.76      3098\n",
            "\n"
          ]
        }
      ]
    },
    {
      "cell_type": "code",
      "source": [
        "# Chi2 Feature Selection Data\n",
        "dt_all(X_chi2,y)"
      ],
      "metadata": {
        "colab": {
          "base_uri": "https://localhost:8080/"
        },
        "id": "aNCb4iWpO0OV",
        "outputId": "fc25f033-047e-4a27-9fbc-518a9a4898fa"
      },
      "execution_count": null,
      "outputs": [
        {
          "output_type": "stream",
          "name": "stdout",
          "text": [
            "\n",
            "Decision Tree - without any sampling:\n",
            "Accuracy: 0.7445497630331753\n",
            "\n",
            "Classification Report:\n",
            "\n",
            "              precision    recall  f1-score   support\n",
            "\n",
            "           0       0.82      0.84      0.83      1557\n",
            "           1       0.51      0.48      0.50       553\n",
            "\n",
            "    accuracy                           0.74      2110\n",
            "   macro avg       0.67      0.66      0.66      2110\n",
            "weighted avg       0.74      0.74      0.74      2110\n",
            "\n",
            "\n",
            "Decision Tree - Undersampling:\n",
            "Accuracy: 0.6938388625592417\n",
            "\n",
            "Classification Report:\n",
            "\n",
            "              precision    recall  f1-score   support\n",
            "\n",
            "           0       0.86      0.70      0.77      1557\n",
            "           1       0.44      0.68      0.54       553\n",
            "\n",
            "    accuracy                           0.69      2110\n",
            "   macro avg       0.65      0.69      0.65      2110\n",
            "weighted avg       0.75      0.69      0.71      2110\n",
            "\n",
            "\n",
            "Decision Tree - Oversampling:\n",
            "Accuracy: 0.7795351839896708\n",
            "\n",
            "Classification Report:\n",
            "\n",
            "              precision    recall  f1-score   support\n",
            "\n",
            "           0       0.78      0.77      0.77      1522\n",
            "           1       0.78      0.79      0.78      1576\n",
            "\n",
            "    accuracy                           0.78      3098\n",
            "   macro avg       0.78      0.78      0.78      3098\n",
            "weighted avg       0.78      0.78      0.78      3098\n",
            "\n"
          ]
        }
      ]
    },
    {
      "cell_type": "code",
      "source": [
        "# No sampling Data\n",
        "dt_all(X,y)"
      ],
      "metadata": {
        "colab": {
          "base_uri": "https://localhost:8080/"
        },
        "id": "-YzTqoqFO-U0",
        "outputId": "d69780b7-431d-4622-a88e-6f54fd1e28ec"
      },
      "execution_count": null,
      "outputs": [
        {
          "output_type": "stream",
          "name": "stdout",
          "text": [
            "\n",
            "Decision Tree - without any sampling:\n",
            "Accuracy: 0.7274881516587678\n",
            "\n",
            "Classification Report:\n",
            "\n",
            "              precision    recall  f1-score   support\n",
            "\n",
            "           0       0.82      0.80      0.81      1557\n",
            "           1       0.48      0.52      0.50       553\n",
            "\n",
            "    accuracy                           0.73      2110\n",
            "   macro avg       0.65      0.66      0.66      2110\n",
            "weighted avg       0.73      0.73      0.73      2110\n",
            "\n",
            "\n",
            "Decision Tree - Undersampling:\n",
            "Accuracy: 0.6909952606635071\n",
            "\n",
            "Classification Report:\n",
            "\n",
            "              precision    recall  f1-score   support\n",
            "\n",
            "           0       0.86      0.69      0.77      1557\n",
            "           1       0.44      0.69      0.54       553\n",
            "\n",
            "    accuracy                           0.69      2110\n",
            "   macro avg       0.65      0.69      0.65      2110\n",
            "weighted avg       0.75      0.69      0.71      2110\n",
            "\n",
            "\n",
            "Decision Tree - Oversampling:\n",
            "Accuracy: 0.8121368624919303\n",
            "\n",
            "Classification Report:\n",
            "\n",
            "              precision    recall  f1-score   support\n",
            "\n",
            "           0       0.81      0.81      0.81      1522\n",
            "           1       0.82      0.81      0.82      1576\n",
            "\n",
            "    accuracy                           0.81      3098\n",
            "   macro avg       0.81      0.81      0.81      3098\n",
            "weighted avg       0.81      0.81      0.81      3098\n",
            "\n"
          ]
        }
      ]
    },
    {
      "cell_type": "markdown",
      "source": [
        "## Support Vector Machine"
      ],
      "metadata": {
        "id": "V7cjNTo-hu7I"
      }
    },
    {
      "cell_type": "code",
      "source": [
        "from sklearn import svm\n",
        "\n",
        "def execute_svm(x_col, x_test, y_col, y_test):\n",
        "  model = svm.SVC(kernel='poly', degree=2)\n",
        "  model.fit(x_col, y_col)\n",
        "\n",
        "  y_pred = model.predict(x_test)\n",
        "\n",
        "  print(\"Accuracy:\",accuracy_score(y_test,y_pred))\n",
        "  print(\"Classification Report:\\n\")\n",
        "  print(classification_report(y_test,y_pred))\n"
      ],
      "metadata": {
        "id": "IKhf5BIfU-Cq"
      },
      "execution_count": null,
      "outputs": []
    },
    {
      "cell_type": "code",
      "source": [
        "def svm_all(X,y):\n",
        "\n",
        "  X_train, X_test, y_train, y_test = train_test_split(X, y, test_size=0.30, random_state=0)\n",
        "\n",
        "  print(\"\\nSVM - without any sampling:\")\n",
        "  execute_svm(X_train, X_test, y_train, y_test)\n",
        "\n",
        "  X_train, X_test, y_train, y_test = undersample(X,y)\n",
        "  print(\"\\nSVM - Undersampling:\")\n",
        "  execute_svm(X_train, X_test, y_train, y_test)\n",
        "\n",
        "  X_train, X_test, y_train, y_test = oversample(X,y)\n",
        "  print(\"\\nSVM - Oversampling:\")\n",
        "  execute_svm(X_train, X_test, y_train, y_test)"
      ],
      "metadata": {
        "id": "8-0jWJWlgeSJ"
      },
      "execution_count": null,
      "outputs": []
    },
    {
      "cell_type": "code",
      "source": [
        "# No sampling Data\n",
        "svm_all(X,y)"
      ],
      "metadata": {
        "colab": {
          "base_uri": "https://localhost:8080/"
        },
        "id": "dHF4JIuDsXWS",
        "outputId": "44e5375f-399e-4fc7-f781-381c38d56821"
      },
      "execution_count": null,
      "outputs": [
        {
          "output_type": "stream",
          "name": "stdout",
          "text": [
            "\n",
            "SVM - without any sampling:\n",
            "Accuracy: 0.737914691943128\n",
            "Classification Report:\n",
            "\n",
            "              precision    recall  f1-score   support\n",
            "\n",
            "           0       0.74      1.00      0.85      1557\n",
            "           1       0.00      0.00      0.00       553\n",
            "\n",
            "    accuracy                           0.74      2110\n",
            "   macro avg       0.37      0.50      0.42      2110\n",
            "weighted avg       0.54      0.74      0.63      2110\n",
            "\n",
            "\n",
            "SVM - Undersampling:\n",
            "Accuracy: 0.556872037914692\n",
            "Classification Report:\n",
            "\n",
            "              precision    recall  f1-score   support\n",
            "\n",
            "           0       0.75      0.59      0.66      1557\n",
            "           1       0.29      0.46      0.35       553\n",
            "\n",
            "    accuracy                           0.56      2110\n",
            "   macro avg       0.52      0.53      0.51      2110\n",
            "weighted avg       0.63      0.56      0.58      2110\n",
            "\n",
            "\n",
            "SVM - Oversampling:\n",
            "Accuracy: 0.49128469980632666\n",
            "Classification Report:\n",
            "\n",
            "              precision    recall  f1-score   support\n",
            "\n",
            "           0       0.49      1.00      0.66      1522\n",
            "           1       0.00      0.00      0.00      1576\n",
            "\n",
            "    accuracy                           0.49      3098\n",
            "   macro avg       0.25      0.50      0.33      3098\n",
            "weighted avg       0.24      0.49      0.32      3098\n",
            "\n"
          ]
        }
      ]
    },
    {
      "cell_type": "code",
      "source": [
        "# ANOVA Feature Selection Data\n",
        "svm_all(X_fc,y)"
      ],
      "metadata": {
        "colab": {
          "base_uri": "https://localhost:8080/"
        },
        "id": "-IItFsTXsoUd",
        "outputId": "d6b7bff6-5dac-4933-e0ca-869e0d311c8f"
      },
      "execution_count": null,
      "outputs": [
        {
          "output_type": "stream",
          "name": "stdout",
          "text": [
            "\n",
            "SVM - without any sampling:\n",
            "Accuracy: 0.7848341232227488\n",
            "Classification Report:\n",
            "\n",
            "              precision    recall  f1-score   support\n",
            "\n",
            "           0       0.83      0.89      0.86      1557\n",
            "           1       0.61      0.49      0.54       553\n",
            "\n",
            "    accuracy                           0.78      2110\n",
            "   macro avg       0.72      0.69      0.70      2110\n",
            "weighted avg       0.77      0.78      0.78      2110\n",
            "\n",
            "\n",
            "SVM - Undersampling:\n",
            "Accuracy: 0.7459715639810427\n",
            "Classification Report:\n",
            "\n",
            "              precision    recall  f1-score   support\n",
            "\n",
            "           0       0.90      0.74      0.81      1557\n",
            "           1       0.51      0.77      0.61       553\n",
            "\n",
            "    accuracy                           0.75      2110\n",
            "   macro avg       0.71      0.75      0.71      2110\n",
            "weighted avg       0.80      0.75      0.76      2110\n",
            "\n",
            "\n",
            "SVM - Oversampling:\n",
            "Accuracy: 0.7650096836668818\n",
            "Classification Report:\n",
            "\n",
            "              precision    recall  f1-score   support\n",
            "\n",
            "           0       0.78      0.72      0.75      1522\n",
            "           1       0.75      0.81      0.78      1576\n",
            "\n",
            "    accuracy                           0.77      3098\n",
            "   macro avg       0.77      0.76      0.76      3098\n",
            "weighted avg       0.77      0.77      0.76      3098\n",
            "\n"
          ]
        }
      ]
    },
    {
      "cell_type": "code",
      "source": [
        "# Chi2 Feature Selection Data\n",
        "svm_all(X_chi2,y)"
      ],
      "metadata": {
        "colab": {
          "base_uri": "https://localhost:8080/"
        },
        "id": "AFQnhwxXsUet",
        "outputId": "eee0b847-badf-42d8-861e-0cb623643d11"
      },
      "execution_count": null,
      "outputs": [
        {
          "output_type": "stream",
          "name": "stdout",
          "text": [
            "\n",
            "SVM - without any sampling:\n",
            "Accuracy: 0.785781990521327\n",
            "Classification Report:\n",
            "\n",
            "              precision    recall  f1-score   support\n",
            "\n",
            "           0       0.83      0.90      0.86      1557\n",
            "           1       0.62      0.46      0.53       553\n",
            "\n",
            "    accuracy                           0.79      2110\n",
            "   macro avg       0.72      0.68      0.70      2110\n",
            "weighted avg       0.77      0.79      0.77      2110\n",
            "\n",
            "\n",
            "SVM - Undersampling:\n",
            "Accuracy: 0.7502369668246446\n",
            "Classification Report:\n",
            "\n",
            "              precision    recall  f1-score   support\n",
            "\n",
            "           0       0.90      0.74      0.81      1557\n",
            "           1       0.52      0.77      0.62       553\n",
            "\n",
            "    accuracy                           0.75      2110\n",
            "   macro avg       0.71      0.76      0.72      2110\n",
            "weighted avg       0.80      0.75      0.76      2110\n",
            "\n",
            "\n",
            "SVM - Oversampling:\n",
            "Accuracy: 0.7679147837314396\n",
            "Classification Report:\n",
            "\n",
            "              precision    recall  f1-score   support\n",
            "\n",
            "           0       0.78      0.74      0.76      1522\n",
            "           1       0.76      0.79      0.78      1576\n",
            "\n",
            "    accuracy                           0.77      3098\n",
            "   macro avg       0.77      0.77      0.77      3098\n",
            "weighted avg       0.77      0.77      0.77      3098\n",
            "\n"
          ]
        }
      ]
    },
    {
      "cell_type": "code",
      "source": [
        "# SelectFPR (False Positive Rate) Feature Selection Data\n",
        "svm_all(X_fpr,y)"
      ],
      "metadata": {
        "colab": {
          "base_uri": "https://localhost:8080/"
        },
        "id": "e2FKN7dFguag",
        "outputId": "1bb25cc8-9dc0-4857-8223-33b9f69206be"
      },
      "execution_count": null,
      "outputs": [
        {
          "output_type": "stream",
          "name": "stdout",
          "text": [
            "\n",
            "SVM - without any sampling:\n",
            "Accuracy: 0.7909952606635071\n",
            "Classification Report:\n",
            "\n",
            "              precision    recall  f1-score   support\n",
            "\n",
            "           0       0.83      0.90      0.86      1557\n",
            "           1       0.63      0.50      0.55       553\n",
            "\n",
            "    accuracy                           0.79      2110\n",
            "   macro avg       0.73      0.70      0.71      2110\n",
            "weighted avg       0.78      0.79      0.78      2110\n",
            "\n",
            "\n",
            "SVM - Undersampling:\n",
            "Accuracy: 0.7369668246445498\n",
            "Classification Report:\n",
            "\n",
            "              precision    recall  f1-score   support\n",
            "\n",
            "           0       0.91      0.71      0.80      1557\n",
            "           1       0.50      0.80      0.62       553\n",
            "\n",
            "    accuracy                           0.74      2110\n",
            "   macro avg       0.70      0.76      0.71      2110\n",
            "weighted avg       0.80      0.74      0.75      2110\n",
            "\n",
            "\n",
            "SVM - Oversampling:\n",
            "Accuracy: 0.8218205293737896\n",
            "Classification Report:\n",
            "\n",
            "              precision    recall  f1-score   support\n",
            "\n",
            "           0       0.84      0.79      0.81      1522\n",
            "           1       0.81      0.85      0.83      1576\n",
            "\n",
            "    accuracy                           0.82      3098\n",
            "   macro avg       0.82      0.82      0.82      3098\n",
            "weighted avg       0.82      0.82      0.82      3098\n",
            "\n"
          ]
        }
      ]
    },
    {
      "cell_type": "markdown",
      "source": [
        "## Naive Bayes"
      ],
      "metadata": {
        "id": "8ZKAQejDp842"
      }
    },
    {
      "cell_type": "code",
      "source": [
        "from sklearn.naive_bayes import MultinomialNB\n",
        "from sklearn.naive_bayes import CategoricalNB\n",
        "\n",
        "def execute_nb(x_col, x_test, y_col, y_test):\n",
        "  model = MultinomialNB()\n",
        "  model.fit(x_col, y_col)\n",
        "\n",
        "  y_pred = model.predict(x_test)\n",
        "\n",
        "  print(\"Accuracy:\",(accuracy_score(y_test,y_pred)))\n",
        "\n",
        "  print(\"\\nClassification Report:\\n\")\n",
        "  print(classification_report(y_test,y_pred))"
      ],
      "metadata": {
        "id": "4ua-bnrKqAoA"
      },
      "execution_count": null,
      "outputs": []
    },
    {
      "cell_type": "code",
      "source": [
        "def nb_all(X,y):\n",
        "\n",
        "  X_train, X_test, y_train, y_test = train_test_split(X, y, test_size=0.30, random_state=0)\n",
        "\n",
        "  print(\"\\nNB - without any sampling:\")\n",
        "  execute_nb(X_train, X_test, y_train, y_test)\n",
        "\n",
        "  X_train, X_test, y_train, y_test = undersample(X,y)\n",
        "  print(\"\\nNB - Undersampling:\")\n",
        "  execute_nb(X_train, X_test, y_train, y_test)\n",
        "\n",
        "  X_train, X_test, y_train, y_test = oversample(X,y)\n",
        "  print(\"\\nNB - Oversampling:\")\n",
        "  execute_nb(X_train, X_test, y_train, y_test)\n"
      ],
      "metadata": {
        "id": "k4rZrNA1qtX6"
      },
      "execution_count": null,
      "outputs": []
    },
    {
      "cell_type": "code",
      "source": [
        "# No sampling Data\n",
        "nb_all(X,y)"
      ],
      "metadata": {
        "colab": {
          "base_uri": "https://localhost:8080/"
        },
        "id": "TPvnDMyCrNAA",
        "outputId": "a133b817-9068-48d7-d1ef-41c3761173d2"
      },
      "execution_count": null,
      "outputs": [
        {
          "output_type": "stream",
          "name": "stdout",
          "text": [
            "\n",
            "NB - without any sampling:\n",
            "Accuracy: 0.714218009478673\n",
            "\n",
            "Classification Report:\n",
            "\n",
            "              precision    recall  f1-score   support\n",
            "\n",
            "           0       0.91      0.68      0.78      1557\n",
            "           1       0.47      0.80      0.59       553\n",
            "\n",
            "    accuracy                           0.71      2110\n",
            "   macro avg       0.69      0.74      0.69      2110\n",
            "weighted avg       0.79      0.71      0.73      2110\n",
            "\n",
            "\n",
            "NB - Undersampling:\n",
            "Accuracy: 0.6862559241706161\n",
            "\n",
            "Classification Report:\n",
            "\n",
            "              precision    recall  f1-score   support\n",
            "\n",
            "           0       0.92      0.63      0.75      1557\n",
            "           1       0.45      0.84      0.59       553\n",
            "\n",
            "    accuracy                           0.69      2110\n",
            "   macro avg       0.68      0.74      0.67      2110\n",
            "weighted avg       0.80      0.69      0.71      2110\n",
            "\n",
            "\n",
            "NB - Oversampling:\n",
            "Accuracy: 0.8192382182052937\n",
            "\n",
            "Classification Report:\n",
            "\n",
            "              precision    recall  f1-score   support\n",
            "\n",
            "           0       0.89      0.72      0.80      1522\n",
            "           1       0.77      0.91      0.84      1576\n",
            "\n",
            "    accuracy                           0.82      3098\n",
            "   macro avg       0.83      0.82      0.82      3098\n",
            "weighted avg       0.83      0.82      0.82      3098\n",
            "\n"
          ]
        }
      ]
    },
    {
      "cell_type": "code",
      "source": [
        "# Chi2 Feature Selection Data\n",
        "nb_all(X_chi2,y)"
      ],
      "metadata": {
        "colab": {
          "base_uri": "https://localhost:8080/"
        },
        "id": "1Ol7oZ9Ms5Pr",
        "outputId": "3c750735-7c0a-4e90-9d66-d41ba5710821"
      },
      "execution_count": null,
      "outputs": [
        {
          "output_type": "stream",
          "name": "stdout",
          "text": [
            "\n",
            "NB - without any sampling:\n",
            "Accuracy: 0.7132701421800948\n",
            "\n",
            "Classification Report:\n",
            "\n",
            "              precision    recall  f1-score   support\n",
            "\n",
            "           0       0.91      0.68      0.78      1557\n",
            "           1       0.47      0.81      0.60       553\n",
            "\n",
            "    accuracy                           0.71      2110\n",
            "   macro avg       0.69      0.74      0.69      2110\n",
            "weighted avg       0.79      0.71      0.73      2110\n",
            "\n",
            "\n",
            "NB - Undersampling:\n",
            "Accuracy: 0.6767772511848341\n",
            "\n",
            "Classification Report:\n",
            "\n",
            "              precision    recall  f1-score   support\n",
            "\n",
            "           0       0.92      0.61      0.74      1557\n",
            "           1       0.44      0.86      0.58       553\n",
            "\n",
            "    accuracy                           0.68      2110\n",
            "   macro avg       0.68      0.73      0.66      2110\n",
            "weighted avg       0.80      0.68      0.70      2110\n",
            "\n",
            "\n",
            "NB - Oversampling:\n",
            "Accuracy: 0.7475790832795352\n",
            "\n",
            "Classification Report:\n",
            "\n",
            "              precision    recall  f1-score   support\n",
            "\n",
            "           0       0.82      0.62      0.71      1522\n",
            "           1       0.71      0.87      0.78      1576\n",
            "\n",
            "    accuracy                           0.75      3098\n",
            "   macro avg       0.76      0.75      0.74      3098\n",
            "weighted avg       0.76      0.75      0.74      3098\n",
            "\n"
          ]
        }
      ]
    },
    {
      "cell_type": "code",
      "source": [
        "# ANOVA Feature Selection Data\n",
        "nb_all(X_fc,y)"
      ],
      "metadata": {
        "colab": {
          "base_uri": "https://localhost:8080/"
        },
        "id": "qy0XOOeRs841",
        "outputId": "1cabf195-4d60-4d9a-ea3d-7035f8e1a5e9"
      },
      "execution_count": null,
      "outputs": [
        {
          "output_type": "stream",
          "name": "stdout",
          "text": [
            "\n",
            "NB - without any sampling:\n",
            "Accuracy: 0.681042654028436\n",
            "\n",
            "Classification Report:\n",
            "\n",
            "              precision    recall  f1-score   support\n",
            "\n",
            "           0       0.93      0.62      0.74      1557\n",
            "           1       0.44      0.86      0.59       553\n",
            "\n",
            "    accuracy                           0.68      2110\n",
            "   macro avg       0.68      0.74      0.66      2110\n",
            "weighted avg       0.80      0.68      0.70      2110\n",
            "\n",
            "\n",
            "NB - Undersampling:\n",
            "Accuracy: 0.6265402843601896\n",
            "\n",
            "Classification Report:\n",
            "\n",
            "              precision    recall  f1-score   support\n",
            "\n",
            "           0       0.93      0.53      0.68      1557\n",
            "           1       0.40      0.90      0.56       553\n",
            "\n",
            "    accuracy                           0.63      2110\n",
            "   macro avg       0.67      0.71      0.62      2110\n",
            "weighted avg       0.80      0.63      0.65      2110\n",
            "\n",
            "\n",
            "NB - Oversampling:\n",
            "Accuracy: 0.7227243382827631\n",
            "\n",
            "Classification Report:\n",
            "\n",
            "              precision    recall  f1-score   support\n",
            "\n",
            "           0       0.84      0.54      0.66      1522\n",
            "           1       0.67      0.90      0.77      1576\n",
            "\n",
            "    accuracy                           0.72      3098\n",
            "   macro avg       0.75      0.72      0.71      3098\n",
            "weighted avg       0.75      0.72      0.71      3098\n",
            "\n"
          ]
        }
      ]
    },
    {
      "cell_type": "code",
      "source": [
        "# SelectFPR (False Positive Rate) Feature Selection Data\n",
        "nb_all(X_fpr,y)"
      ],
      "metadata": {
        "colab": {
          "base_uri": "https://localhost:8080/"
        },
        "id": "NJntY4Oqs_ZW",
        "outputId": "6fb214cf-4f97-4da3-8849-831e9c76f8d7"
      },
      "execution_count": null,
      "outputs": [
        {
          "output_type": "stream",
          "name": "stdout",
          "text": [
            "\n",
            "NB - without any sampling:\n",
            "Accuracy: 0.7137440758293839\n",
            "\n",
            "Classification Report:\n",
            "\n",
            "              precision    recall  f1-score   support\n",
            "\n",
            "           0       0.91      0.68      0.78      1557\n",
            "           1       0.47      0.80      0.59       553\n",
            "\n",
            "    accuracy                           0.71      2110\n",
            "   macro avg       0.69      0.74      0.69      2110\n",
            "weighted avg       0.79      0.71      0.73      2110\n",
            "\n",
            "\n",
            "NB - Undersampling:\n",
            "Accuracy: 0.6867298578199053\n",
            "\n",
            "Classification Report:\n",
            "\n",
            "              precision    recall  f1-score   support\n",
            "\n",
            "           0       0.92      0.63      0.75      1557\n",
            "           1       0.45      0.84      0.59       553\n",
            "\n",
            "    accuracy                           0.69      2110\n",
            "   macro avg       0.68      0.74      0.67      2110\n",
            "weighted avg       0.80      0.69      0.71      2110\n",
            "\n",
            "\n",
            "NB - Oversampling:\n",
            "Accuracy: 0.7653324725629438\n",
            "\n",
            "Classification Report:\n",
            "\n",
            "              precision    recall  f1-score   support\n",
            "\n",
            "           0       0.83      0.66      0.73      1522\n",
            "           1       0.73      0.86      0.79      1576\n",
            "\n",
            "    accuracy                           0.77      3098\n",
            "   macro avg       0.78      0.76      0.76      3098\n",
            "weighted avg       0.77      0.77      0.76      3098\n",
            "\n"
          ]
        }
      ]
    }
  ]
}